{
  "nbformat": 4,
  "nbformat_minor": 0,
  "metadata": {
    "colab": {
      "provenance": [],
      "collapsed_sections": [
        "MKO4Bus9xtFx",
        "GXuqwV0htgoT",
        "rbJr1M0LuR0a",
        "UdDMKV15VZao",
        "VOPI70l7xcLx",
        "bo5SLwuZVcYM"
      ],
      "gpuType": "A100",
      "authorship_tag": "ABX9TyNB7n2BT6AF47n5e+bUwGib",
      "include_colab_link": true
    },
    "kernelspec": {
      "name": "python3",
      "display_name": "Python 3"
    },
    "language_info": {
      "name": "python"
    },
    "accelerator": "GPU"
  },
  "cells": [
    {
      "cell_type": "markdown",
      "metadata": {
        "id": "view-in-github",
        "colab_type": "text"
      },
      "source": [
        "<a href=\"https://colab.research.google.com/github/ellolo/llm-domain-adaptation-rag-lora/blob/main/notebooks/4_lora_combined_training.ipynb\" target=\"_parent\"><img src=\"https://colab.research.google.com/assets/colab-badge.svg\" alt=\"Open In Colab\"/></a>"
      ]
    },
    {
      "cell_type": "markdown",
      "source": [
        "# Lora combined training\n",
        "\n",
        "In the previous notebooks (`2_lora_qa_finetuning.ipynb` and `3_lora_cont_pretraining.ipynb`) I experimented with two distinct approaches to teach a base model to answers user questions of a specific domain:\n",
        "\n",
        "- In `2_lora_qa_finetuning.ipynb` I experimented with the classical Instruction Fine Tuning (ITF) approach: a base model is fine-tuned with a dataset of Question Answering pairs related to the domain, using [Low-Rank Adaptation (LoRA)](https://arxiv.org/abs/2106.09685).\n",
        "\n",
        "- In `3_lora_cont_pretraining.ipynb` I experimented with the less used Continued Pretraining approach: a base model is trained with the raw text extracted from domain documents (using Lora), similarly to how fundational models are typically pretrained.\n",
        "\n",
        "For a quick intro on these two approaches have a look at [this paper](https://arxiv.org/pdf/2405.09673).\n",
        "\n",
        "In this notebook, I experiment with a mixed approach: the training dataset consists of both the raw text (as in `3_lora_cont_pretraining.ipynb`), and a sample of 2,000 QA pairs from the dataset used in `2_lora_qa_finetuning.ipynb`.\n",
        "\n",
        "The hope is that by training on a combined dataset we can get the best of both worlds. From the one side, the model has a good chance to truly and fully learn domain knowledge and domain jargon (Continued Pretraining). From the other side, the model retains the capability to answer questions on that domain (Instruction Fine Tuning).\n",
        "\n",
        "\n",
        "As in the previous notebooks, I use `Llama-3.1-8B-Instruct` and `Llama-3.2-1B-Instruct` as base models, and the game of Chtulhu as domain.\n",
        "\n",
        "## Stack\n",
        "- [Hugging Face Transformers](https://huggingface.co/docs/transformers/en/index) to load and quantize the base models, and to perform fine-tuning\n",
        "- [BitsAndBytes](https://huggingface.co/docs/bitsandbytes/main/en/index) for quantization.\n",
        "- [Hugging Face Parameter-Efficient Fine-Tuning (PEFT)](https://huggingface.co/docs/peft/en/index) to configure the Lora model.\n",
        "- [Hugging Face Hub](https://huggingface.co/docs/huggingface_hub/en/index) to store the Lora models checkpoints.\n",
        "\n",
        "I recommend to use a machine with at least a **A100** Nvidia GPU. Although Lora is designed to save VRAM, a decent GPU is stil needed.\n",
        "\n",
        "## Details\n",
        "At a high-level, I do the following (more details are provided in the rest of the notebook):\n",
        "\n",
        "1. Install dependencies and clone this github repo. I use the repo to read the Chtulhu Rulebook and the QA datasrt, and also to store performance data of the fine-tuning process.\n",
        "2. Load the base model (either `Llama-3.1-8B-Instruct` or `Llama-3.2-1B-Instruct`) and quantize it to 4-bits to save VRAM. When quantized, these models are small enough to perform Lora fine-tuning on a A100 GPU.\n",
        "3. Setup and configure the Lora model. This means that we create low-dimensional Lora adapters on top of specific layers of the base model, and fine-tune the weights of these adapters, leaving the weights of the original base model untouched, thus saving time and VRAM. I add Lora adapeters to all linear layers of the Llama models (both attention and FFN layers) including the head and the initial embedding. I set Lora rank to 64, Lora α to 32, and always activate rLora.\n",
        "4. Prepare the dataset for training. The dataset consists of **chunks** of 256 tokens extracted from the Chtulhu Rulebook. More details are provided in the following sections.\n",
        "5. Fine-tune the Lora model. I track the training loss as the main metric. I also track and store VRAM snapshots to monitor the memory usage."
      ],
      "metadata": {
        "id": "WJ2a5BhwUdZt"
      }
    },
    {
      "cell_type": "markdown",
      "source": [
        "# 1. Install dependencies and clone github repo"
      ],
      "metadata": {
        "id": "1MbBTBbK0GVw"
      }
    },
    {
      "cell_type": "code",
      "execution_count": null,
      "metadata": {
        "id": "86dv3HdX6xax"
      },
      "outputs": [],
      "source": [
        "%%capture\n",
        "! pip install -U 'transformers[torch]' peft datasets bitsandbytes\n"
      ]
    },
    {
      "cell_type": "code",
      "source": [
        "# get HF token from secrets and login in HF hub, so that we can download models from HF Hub\n",
        "\n",
        "from huggingface_hub import login\n",
        "from google.colab import userdata\n",
        "\n",
        "HF_TOKEN=userdata.get('HF_TOKEN_WRITE')\n",
        "if HF_TOKEN:\n",
        "  login(HF_TOKEN, new_session=True)\n",
        "else:\n",
        "  login()"
      ],
      "metadata": {
        "id": "V8q9TEI668wH"
      },
      "execution_count": null,
      "outputs": []
    },
    {
      "cell_type": "code",
      "source": [
        "# Clone github repository.\n",
        "\n",
        "# Past here the SSH key stored on my personal laptopat: ~/dev/llm_cthulhu_fine_tuning/keys\n",
        "# This is not safe, but unfortunaly using Colab secrets did not work.\n",
        "\n",
        "! mkdir -p /root/.ssh\n",
        "with open(\"/root/.ssh/id_rsa\", mode=\"w\") as fp:\n",
        "    fp.write(\"\"\"<YOUR SSH KEY TO THE REPO>\"\"\")\n",
        "\n",
        "# <COPY FROM LOCAL DISK AT: ~/dev/llm_cthulhu_fine_tuning/keys>\n",
        "! ssh-keyscan -t rsa github.com >> ~/.ssh/known_hosts\n",
        "! chmod go-rwx /root/.ssh/id_rsa\n",
        "! git clone git@github.com:ellolo/llm-domain-adaptation-rag-lora.git"
      ],
      "metadata": {
        "id": "xYOAJ3nj69Y7"
      },
      "execution_count": null,
      "outputs": []
    },
    {
      "cell_type": "markdown",
      "source": [
        "# 2. Load quantized pretrained model\n",
        "\n",
        "The process is the same as in `2_lora_qa_finetuning.ipynb` and `3_lora_cont_pretraining.ipynb`. Please refer to those notebooks for detail explanation of the steps performed.\n",
        "\n",
        "I experimented with the following base models: `Llama-3.1-8B-Instruct` and  `Llama-3.2-1B-Instruct`. These models are small enough to be finetuned with LoRA on a A100 GPU.\n",
        "The base model is loaded into the GPU with 4-bit BitsAndBytes quantization.  Using quantization saves GPU memory, which allowed me to run LoRA fine-tuning with a 8B model on a single A100 GPU."
      ],
      "metadata": {
        "id": "MKO4Bus9xtFx"
      }
    },
    {
      "cell_type": "code",
      "source": [
        "# Set base model\n",
        "\n",
        "model_name = \"meta-llama/Llama-3.1-8B-Instruct\" # \"meta-llama/Llama-3.2-1B-Instruct\" # \"meta-llama/Llama-3.2-1B\""
      ],
      "metadata": {
        "id": "oJl6jqW20M-o"
      },
      "execution_count": null,
      "outputs": []
    },
    {
      "cell_type": "code",
      "source": [
        "# Configure BitsAndBytes\n",
        "\n",
        "import torch\n",
        "from transformers import BitsAndBytesConfig\n",
        "\n",
        "bnb_config = BitsAndBytesConfig(\n",
        "    load_in_4bit=True,                     # weights stored in 4 bits (saves memory)\n",
        "    bnb_4bit_quant_type=\"nf4\",             # format used for storing in 4 bits\n",
        "    bnb_4bit_use_double_quant=True,        # double quantize (saves memory)\n",
        "    bnb_4bit_compute_dtype=torch.bfloat16, # perform operations in 16bit instead of 32bit (speed up fine-tuning)\n",
        ")"
      ],
      "metadata": {
        "id": "S0BmIOBdzoKd"
      },
      "execution_count": null,
      "outputs": []
    },
    {
      "cell_type": "code",
      "source": [
        "# Load quantized model on GPU\n",
        "\n",
        "from transformers import AutoModelForCausalLM\n",
        "from peft import prepare_model_for_kbit_training\n",
        "\n",
        "SKIP_FLASH_ATTENTION=True\n",
        "\n",
        "device = torch.device(\"cuda\") if torch.cuda.is_available() else torch.device(\"cpu\")\n",
        "\n",
        "mem_start = torch.cuda.memory_allocated(device)\n",
        "\n",
        "# check if we can use flash-attention\n",
        "try:\n",
        "  if torch.cuda.get_device_capability()[0] >= 8 and not SKIP_FLASH_ATTENTION:\n",
        "      print(\"Using flash-attention\")\n",
        "      attn_implementation = \"flash_attention_2\"\n",
        "      !pip install -U flash_attn\n",
        "  else:\n",
        "      print(\"Using native attention\")\n",
        "      attn_implementation = \"eager\"\n",
        "except:\n",
        "  print(\"Using native attention (no GPU found)\")\n",
        "  attn_implementation = \"eager\"\n",
        "attn_implementation = \"eager\"\n",
        "\n",
        "model = AutoModelForCausalLM.from_pretrained(\n",
        "    model_name,\n",
        "    quantization_config=bnb_config,\n",
        "    attn_implementation=attn_implementation,\n",
        ").to(device)\n",
        "model = prepare_model_for_kbit_training(model)\n",
        "\n",
        "mem_model_load = torch.cuda.memory_allocated(device)\n",
        "mem_used_model = round((mem_model_load - mem_start) / 1024/1024/1024, 4)\n",
        "\n",
        "print(f\"Using device:{device}\")\n",
        "print(f\"Memory used for original model (GB): {mem_used_model}\")\n",
        "print(model)"
      ],
      "metadata": {
        "id": "ABvhVB77zrXC"
      },
      "execution_count": null,
      "outputs": []
    },
    {
      "cell_type": "markdown",
      "source": [
        "# 3. Setup LoRA model\n",
        "\n",
        "The process is the same as in `3_lora_cont_pretraining.ipynb`. Please refer to that Notebook for further details.\n",
        "\n",
        "I experimented with the following Llora hyperparameter setups:\n",
        "- **r**: 64\n",
        "- **α**: 32\n",
        "- **rLlora**: active\n",
        "- **layers with Llora**: all linear layers \\\\\n",
        "In `3_lora_cont_pretraining.ipynb` I included also the `lm_head` and `embed_tokens` layers. However in this experiment I decided not to do that, as I assumed that including them would be disastrous when tuning on the QA pairs.\n",
        "- **batch size**: 64"
      ],
      "metadata": {
        "id": "GXuqwV0htgoT"
      }
    },
    {
      "cell_type": "code",
      "source": [
        "# Set Lora hyperparameters\n",
        "\n",
        "from peft import LoraConfig, get_peft_model\n",
        "\n",
        "def get_linear_layers(model, exclude_lm_head = True):\n",
        "    \"\"\"\n",
        "    Returns the short sematic name of all layers that are linear,\n",
        "    (excluding the final head layer if needed).\n",
        "\n",
        "    Args:\n",
        "        model: HF model to get linear layers from.\n",
        "        exclude_lm_head (boolean, optional): True if lm_head layer must be included\n",
        "    Returns:\n",
        "        list: List of linear layers of the model.\n",
        "    \"\"\"\n",
        "    linear_layers = set()\n",
        "    for name, module in model.named_modules():\n",
        "      module_type = str(type(module))\n",
        "      if \"Linear\" in module_type:\n",
        "        linear_layers.add(name.split(\".\")[-1])\n",
        "    if exclude_lm_head and 'lm_head' in linear_layers:\n",
        "      linear_layers.remove(\"lm_head\")\n",
        "    return list(linear_layers)\n",
        "\n",
        "INCLUDE_HEAD_AND_EMB = False  # decide if to include lm_nead and embed_tokens layers\n",
        "\n",
        "if INCLUDE_HEAD_AND_EMB:\n",
        "  layers_for_lora = get_linear_layers(model, exclude_lm_head=False)\n",
        "  layers_for_lora.append(\"embed_tokens\")\n",
        "else:\n",
        "  layers_for_lora = get_linear_layers(model, exclude_lm_head=True)\n",
        "\n",
        "print(f\"Linear for LoRA: {layers_for_lora}\")\n",
        "\n",
        "LORA_R = 64 # 16, 32, 64, 128, 256\n",
        "LORA_ALPHA = 32\n",
        "\n",
        "lora_config = LoraConfig(\n",
        "    r=LORA_R,                                 # rank (dim) of the adapters A and B. Higher value means more parameters to train (more expressivity but also more mem). Increasing does not bring substantial increase in performance.\n",
        "    lora_alpha=LORA_ALPHA,                    # magnitude of adapter in changing the orginal params (W' = W + alpha/r * (A*B)). Usually alpha=2*r. Typicall set between 4 and 64. High a leans more to the adapter, low a leans more on original weights. Should be bigger for smaller models.\n",
        "    target_modules= layers_for_lora,          # to which layers to apply lora adapters. This is the param that influences performance the most. According to QLoRA paper should use adapters to all linear layers to match full finetuning accuracy\n",
        "    lora_dropout=0.0,                         # setting to 0 allows faster training, but risks some overfitting\n",
        "    bias=\"none\",\n",
        "    use_rslora=True,                          # stabilizes adapters. changes the Lora equation to: W' = W + alpha/SQRT(r) * (A*B), so that for large r, the Lora adapters still have a significant impact on W'\n",
        "    task_type=\"CAUSAL_LM\",\n",
        ")\n"
      ],
      "metadata": {
        "id": "GUC-Yw4TyyTM",
        "colab": {
          "base_uri": "https://localhost:8080/"
        },
        "outputId": "dc727944-16e9-40dc-dd34-b5148930e50c",
        "collapsed": true
      },
      "execution_count": null,
      "outputs": [
        {
          "output_type": "stream",
          "name": "stdout",
          "text": [
            "Linear for LoRA: ['v_proj', 'gate_proj', 'down_proj', 'o_proj', 'up_proj', 'q_proj', 'k_proj']\n"
          ]
        }
      ]
    },
    {
      "cell_type": "code",
      "source": [
        "# Add LoRA adapters to the selected layers of the base model's architecture.\n",
        "\n",
        "from peft import PeftModelForCausalLM\n",
        "\n",
        "model: PeftModelForCausalLM = get_peft_model(model, lora_config)\n",
        "\n",
        "mem_lora_model_load = torch.cuda.memory_allocated(device)\n",
        "mem_used_lora_model = round((mem_lora_model_load - mem_model_load) / 1024/1024/1024, 4)\n",
        "print(f\"Memory used for original model (GB): {mem_used_model}\")\n",
        "print(f\"Memory used for LoRA model (GB): {mem_used_lora_model}\")\n",
        "print(model)\n",
        "print(\"*\"*20)\n",
        "model.print_trainable_parameters()"
      ],
      "metadata": {
        "id": "uGp_5pnrz56f"
      },
      "execution_count": null,
      "outputs": []
    },
    {
      "cell_type": "markdown",
      "source": [
        "# 4. Prepare dataset\n",
        "\n",
        "I train the base model on a dataset which consist of the raw text dataset used in `3_lora_cont_pretraining.ipynb`, to which I appended 2,000 random QA pairs from the dataset used in `2_lora_qa_finetuning.ipynb`. Please refer to these two notebooks to get more details on the used datasets.\n",
        "\n",
        "Specifically, I do the following:\n",
        "\n",
        "1. Prepare the **raw text dataset**: load the Chtulhu Rulebook, tokenize it, create chunks (context length is set to 256, stride to 32).\n",
        "2. Prepare the **QA dataset**:  load the dataset, apply chat template, tokenize it.\n",
        "3. Shuffle QA dataset, select 2,000 random QA pairs, append them to the raw text dataset.\n",
        "4. Initialize the Data Collator as in `3_lora_cont_pretraining.ipynb`.\n"
      ],
      "metadata": {
        "id": "rbJr1M0LuR0a"
      }
    },
    {
      "cell_type": "code",
      "source": [
        "# load textual dataset\n",
        "\n",
        "from datasets import load_dataset\n",
        "\n",
        "%cd /content/cthulhu_fine_tuning\n",
        "\n",
        "dataset_file = \"data/output/cthulhu.txt\"\n",
        "\n",
        "dataset = load_dataset(\n",
        "    \"text\",\n",
        "    data_files = dataset_file,\n",
        "    sample_by=\"document\",\n",
        "    split = \"train\")\n",
        "\n",
        "print(f\"dataset size: {len(dataset)}\")\n",
        "print(f\"Number of chars: {len(dataset[0]['text'])}\")"
      ],
      "metadata": {
        "id": "-OTuplaO_pLh"
      },
      "execution_count": null,
      "outputs": []
    },
    {
      "cell_type": "code",
      "source": [
        "# Tokenize and chunk textual dataset\n",
        "\n",
        "from transformers import AutoTokenizer\n",
        "from collections import defaultdict\n",
        "import numpy as np\n",
        "\n",
        "\n",
        "def tokenize(example):\n",
        "  \"\"\"\n",
        "  Tokenizes the text in the 'text' field of a dataset example.\n",
        "\n",
        "  Args:\n",
        "      example (dict): A dictionary containing the text data in the 'text' key.\n",
        "\n",
        "  Returns:\n",
        "      dict: A dictionary containing the tokenized input IDs under the 'input_ids' key.\n",
        "  \"\"\"\n",
        "  return tokenizer(example[\"text\"])\n",
        "\n",
        "\n",
        "def create_chunks(example, context_length, stride=1):\n",
        "  \"\"\"\n",
        "  Splits tokenized input IDs into overlapping chunks.\n",
        "\n",
        "  Args:\n",
        "      example (dict): A dictionary containing the tokenized input IDs under the 'input_ids' key.\n",
        "      context_length (int): The desired length of each chunk, in number of tokens.\n",
        "      stride (int, optional): The number of tokens to shift for the start of the next chunk. Defaults to 1.\n",
        "\n",
        "  Returns:\n",
        "      dict: A dictionary containing a list of tokenized chunks under the 'input_ids' key\n",
        "            and a list of chunk lengths under the 'length' key.\n",
        "  \"\"\"\n",
        "  chunks = []\n",
        "  lengths = []\n",
        "  for i in range(0, len(example[\"input_ids\"][0]) - context_length + 1, stride):\n",
        "    chunk = example[\"input_ids\"][0][i : i + context_length]\n",
        "    chunks.append(chunk)\n",
        "    lengths.append(len(chunk))\n",
        "  return {\"input_ids\": chunks, \"length\": lengths}\n",
        "\n",
        "\n",
        "CONTEXT_LENGTH = 256  # nuber of tokens in each chunk\n",
        "STRIDE = 32 # start the next chunk STRIDE tokens later\n",
        "\n",
        "# load tokenizer\n",
        "tokenizer = AutoTokenizer.from_pretrained(model_name, use_fast=True)\n",
        "\n",
        "# tokenize whole document\n",
        "dataset_tokenized = dataset.map(tokenize, batched=False, remove_columns=dataset.column_names)\n",
        "\n",
        "# split document into chunks\n",
        "dataset_chunked = dataset_tokenized.map(\n",
        "    create_chunks,\n",
        "    batched=True,\n",
        "    remove_columns=dataset_tokenized.column_names,\n",
        "    fn_kwargs={\"context_length\": CONTEXT_LENGTH, \"stride\": STRIDE})\n",
        "\n",
        "# show dataset statistics\n",
        "print(f\"Number of tokens: {len(dataset_tokenized['input_ids'][0])}\")\n",
        "print(f\"Number of chunks: {len(dataset_chunked)}\")\n",
        "lengths = dataset_chunked[\"length\"]\n",
        "d = defaultdict(int)\n",
        "for l in lengths:\n",
        "  d[l] += 1\n",
        "print(\"Distribution of chunk lengths:\")\n",
        "for k, v in d.items():\n",
        "  print(f\"{k}: {v}\")"
      ],
      "metadata": {
        "id": "LCAaODvd6_FU"
      },
      "execution_count": null,
      "outputs": []
    },
    {
      "cell_type": "code",
      "source": [
        "# shuffle textual dataset\n",
        "generator = np.random.default_rng(seed=42)\n",
        "dataset_chunked = dataset_chunked.shuffle(generator=generator)"
      ],
      "metadata": {
        "id": "fRlghsVL1KkT"
      },
      "execution_count": null,
      "outputs": []
    },
    {
      "cell_type": "code",
      "source": [
        "# Loads QA dataset\n",
        "\n",
        "import glob\n",
        "import json\n",
        "from pathlib import Path\n",
        "from datasets import Dataset\n",
        "\n",
        "%cd /content/cthulhu_fine_tuning\n",
        "\n",
        "\n",
        "def generate_examples(dir: str, tokenizer, last_index) -> str:\n",
        "  \"\"\"\n",
        "  Generator function to load QA pairs from JSON files and format them into ChatML.\n",
        "\n",
        "  Args:\n",
        "      dir (str): The directory containing the JSON files.\n",
        "      tokenizer: The tokenizer with an `apply_chat_template` method.\n",
        "      last_index: The index of the last file to include in the dataset.\n",
        "\n",
        "  Yields:\n",
        "      dict: A dictionary containing 'file_index' and 'chatml' for each example,\n",
        "      where 'file_index' is the index of the file the example is extracted from,\n",
        "      and 'chatml' is the actual conversation in the chatML format of the specific\n",
        "      LLM model.\n",
        "  \"\"\"\n",
        "  fnames = glob.glob(f\"{dir}/*.json\")\n",
        "  for fname in fnames:\n",
        "    file_index = int(Path(fname).name.split(\"_\")[1])\n",
        "    with open(fname) as f:\n",
        "      if last_index and file_index > last_index:\n",
        "        print(f\"Skipping file: {fname}\")\n",
        "        continue\n",
        "      for line in f:\n",
        "        messages = json.loads(line)[\"messages\"]\n",
        "        chatml = tokenizer.apply_chat_template( # will fail if the model is not an instruct model\n",
        "            messages,\n",
        "            tokenize=False,\n",
        "            add_generation_prompt=False\n",
        "        )\n",
        "        yield {\"file_index\":file_index, \"chatml\": chatml}\n",
        "\n",
        "DATASET_LAST_FILE_INDEX=None\n",
        "dataset_qa_path = \"data/final_cleaned\"\n",
        "\n",
        "dataset_qa = Dataset.from_generator(\n",
        "    generate_examples,\n",
        "    gen_kwargs={\n",
        "        \"dir\": dataset_qa_path,\n",
        "        \"tokenizer\": tokenizer,\n",
        "        \"last_index\": DATASET_LAST_FILE_INDEX\n",
        "        },\n",
        "    split=\"train\"\n",
        "    )\n",
        "\n",
        "# print first QA pair of the training dataset in internal ChatML format\n",
        "print(dataset_qa[0])"
      ],
      "metadata": {
        "id": "VMnRkoyu1Lml"
      },
      "execution_count": null,
      "outputs": []
    },
    {
      "cell_type": "code",
      "source": [
        "# Tokenize QA dataset\n",
        "\n",
        "from itertools import compress\n",
        "from transformers import AutoTokenizer, AutoModelForCausalLM\n",
        "\n",
        "\n",
        "def tokenize(dataset, tokenizer: AutoTokenizer):\n",
        "  \"\"\"\n",
        "  Tokenizes the dataset using the provided tokenizer.\n",
        "\n",
        "  Args:\n",
        "      dataset: The dataset to tokenize.\n",
        "      tokenizer (AutoTokenizer): The tokenizer to use.\n",
        "\n",
        "  Returns:\n",
        "      dict: A dictionary containing the tokenized data.\n",
        "  \"\"\"\n",
        "  return tokenizer(\n",
        "      dataset[\"chatml\"],\n",
        "      padding=False, # padding will be done by the DataCollector\n",
        "      truncation=True,\n",
        "      )\n",
        "\n",
        "# max length of the context that we allow (keeps mem in check)\n",
        "MAX_SEQ_LENGTH = CONTEXT_LENGTH\n",
        "\n",
        "# tokenize\n",
        "dataset_qa_tokenized = dataset_qa.map(\n",
        "    tokenize,\n",
        "    remove_columns=[\"file_index\", \"chatml\"],\n",
        "    batched=True,\n",
        "    fn_kwargs={\"tokenizer\": tokenizer},\n",
        "  )\n",
        "\n",
        "# remove examples that are too long\n",
        "dataset_qa_tokenized = dataset_qa_tokenized.filter(lambda x: len(x[\"input_ids\"]) <= MAX_SEQ_LENGTH)\n",
        "\n",
        "\n",
        "print(f\"\\n{dataset_qa_tokenized}\")\n",
        "print(\"*\"*20)\n",
        "print(\"tokenized example:\")\n",
        "print(dataset_qa_tokenized[0])\n",
        "print(\"*\"*20)\n",
        "print(\"decoded tokenized example:\")\n",
        "print(tokenizer.decode(dataset_qa_tokenized[0][\"input_ids\"]))\n",
        "print(\"*\"*20)\n",
        "print(\"Decoded tokenized example (only tokens that are not masked):\")\n",
        "print(tokenizer.decode(list(compress(dataset_qa_tokenized[0][\"input_ids\"], dataset_qa_tokenized[0][\"attention_mask\"]))))"
      ],
      "metadata": {
        "id": "xsGxOOLz10RK"
      },
      "execution_count": null,
      "outputs": []
    },
    {
      "cell_type": "code",
      "source": [
        "# shuffle QA dataset, select 2000 QA pairs, and merge it at the end of the textual dataset\n",
        "\n",
        "QA_SAMPLE_SIZE = 2000\n",
        "\n",
        "# shuffle dataset\n",
        "generator = np.random.default_rng(seed=42)\n",
        "dataset_qa_tokenized = dataset_qa_tokenized.shuffle(generator=generator)\n",
        "\n",
        "# select only 300 random examples\n",
        "dataset_qa_tokenized_sub = dataset_qa_tokenized.select(range(QA_SAMPLE_SIZE))\n",
        "\n",
        "# add length column, remove attention_mark column\n",
        "dataset_qa_tokenized_sub = dataset_qa_tokenized_sub.add_column(\"length\", [len(ex[\"input_ids\"]) for ex in dataset_qa_tokenized_sub])\n",
        "dataset_qa_tokenized_sub = dataset_qa_tokenized_sub.remove_columns(\"attention_mask\")\n",
        "\n",
        "# concatenate datasets\n",
        "from datasets import concatenate_datasets\n",
        "dataset_combo = concatenate_datasets([dataset_chunked, dataset_qa_tokenized_sub])"
      ],
      "metadata": {
        "id": "8ZegDzvH5MdH"
      },
      "execution_count": null,
      "outputs": []
    },
    {
      "cell_type": "code",
      "source": [
        "print(dataset_chunked)\n",
        "print(dataset_qa_tokenized)\n",
        "print(dataset_qa_tokenized_sub)\n",
        "print(dataset_combo)"
      ],
      "metadata": {
        "colab": {
          "base_uri": "https://localhost:8080/"
        },
        "collapsed": true,
        "id": "p3y34vRf4wsl",
        "outputId": "2bbac9ca-82dd-4fd5-fba6-d75db789c1ce"
      },
      "execution_count": null,
      "outputs": [
        {
          "output_type": "stream",
          "name": "stdout",
          "text": [
            "Dataset({\n",
            "    features: ['input_ids', 'length'],\n",
            "    num_rows: 14557\n",
            "})\n",
            "Dataset({\n",
            "    features: ['input_ids', 'attention_mask'],\n",
            "    num_rows: 11927\n",
            "})\n",
            "Dataset({\n",
            "    features: ['input_ids', 'length'],\n",
            "    num_rows: 2000\n",
            "})\n",
            "Dataset({\n",
            "    features: ['input_ids', 'length'],\n",
            "    num_rows: 16557\n",
            "})\n"
          ]
        }
      ]
    },
    {
      "cell_type": "code",
      "source": [
        "# get distribution of context length across the dataset\n",
        "\n",
        "from collections import defaultdict\n",
        "from matplotlib import pyplot as plt\n",
        "\n",
        "\n",
        "context_lengths = defaultdict(int)\n",
        "for example in dataset_combo:\n",
        "  context_lengths[example[\"length\"]] += 1\n",
        "\n",
        "display(plt.bar(context_lengths.keys(), context_lengths.values(), log=True))"
      ],
      "metadata": {
        "colab": {
          "base_uri": "https://localhost:8080/"
        },
        "collapsed": true,
        "id": "o0lcC8Ln6DG_",
        "outputId": "f834e5af-8e65-4f87-c8ee-34404c5f90af"
      },
      "execution_count": null,
      "outputs": [
        {
          "output_type": "display_data",
          "data": {
            "text/plain": [
              "<BarContainer object of 57 artists>"
            ]
          },
          "metadata": {}
        },
        {
          "output_type": "display_data",
          "data": {
            "text/plain": [
              "<Figure size 640x480 with 1 Axes>"
            ],
            "image/png": "[encoded data removed]"
          },
          "metadata": {}
        }
      ]
    },
    {
      "cell_type": "code",
      "source": [
        "# set pad token for Llama tokenizer\n",
        "\n",
        "tokenizer.add_special_tokens({\"pad_token\": \"<|finetune_right_pad_id|>\"})\n",
        "model.config.pad_token_id = tokenizer.pad_token_id\n",
        "tokenizer.padding_side = 'right'\n",
        "\n",
        "print(\"*\"*40)\n",
        "print(f\"Tokenizer vocab size before adding pad token: {len(tokenizer)}\")\n",
        "print(f\"Tokenizer vocab size after adding pad token: {len(tokenizer)}\")\n",
        "print('Tokenizer pad token:', tokenizer.pad_token)\n",
        "print('Tokenizer pad token id:', tokenizer.pad_token_id)\n",
        "print('Model pad token id:', model.config.pad_token_id)\n",
        "print(\"*\"*40)\n",
        "\n",
        "\n",
        "# inizialize data collator\n",
        "from transformers import DataCollatorForLanguageModeling\n",
        "data_collator = DataCollatorForLanguageModeling(tokenizer=tokenizer, mlm=False)"
      ],
      "metadata": {
        "colab": {
          "base_uri": "https://localhost:8080/"
        },
        "id": "4cyYT3RkubWx",
        "outputId": "5d8df900-59f9-4feb-9ce4-fd5063ca38a3",
        "collapsed": true
      },
      "execution_count": null,
      "outputs": [
        {
          "output_type": "stream",
          "name": "stdout",
          "text": [
            "****************************************\n",
            "Tokenizer vocab size before adding pad token: 128256\n",
            "Tokenizer vocab size after adding pad token: 128256\n",
            "Tokenizer pad token: <|finetune_right_pad_id|>\n",
            "Tokenizer pad token id: 128004\n",
            "Model pad token id: 128004\n",
            "****************************************\n"
          ]
        }
      ]
    },
    {
      "cell_type": "code",
      "source": [
        "# Let's check that the data collator produces output as we expect\n",
        "\n",
        "import torch\n",
        "\n",
        "dataloader = torch.utils.data.DataLoader(\n",
        "    dataset_combo,\n",
        "    collate_fn=data_collator,\n",
        "    batch_size=2\n",
        "    )\n",
        "\n",
        "def occurrence_token_id(tensor, token_id):\n",
        "  mask = token_id == tensor\n",
        "  return mask.sum().item()\n",
        "\n",
        "l = len(dataloader)\n",
        "for ct, batch in enumerate(dataloader):\n",
        "      if ct < 2 or (ct >= l-3 and ct < l-1):\n",
        "        print()\n",
        "        print(f\"Sequences length: {len(batch['input_ids'][0])}\")\n",
        "        print(f\"Padding tokens in sequence 1: {occurrence_token_id(batch['input_ids'][0], tokenizer.pad_token_id)}\")\n",
        "        print(f\"Padding tokens in sequence 2: {occurrence_token_id(batch['input_ids'][1], tokenizer.pad_token_id)}\")\n",
        "        print(f\"Sequence 1 decoded:\\n {tokenizer.decode(batch['input_ids'][0])}\")\n",
        "        print(f\"\\nSequence 2 decoded:\\n {tokenizer.decode(batch['input_ids'][1])}\")\n",
        "        print(f\"Actual input to Trainer:\")\n",
        "        print(batch)\n",
        "        print(\"*\"*50)\n"
      ],
      "metadata": {
        "id": "_RdRytl3vKYN"
      },
      "execution_count": null,
      "outputs": []
    },
    {
      "cell_type": "markdown",
      "source": [
        "# 5. Execute combined training\n",
        "\n",
        "The process for training the model is exactly the same as in `3_lora_cont_pretraining.ipynb`. Please refer to that notebook for a detailed explanation of the training steps.\n",
        "\n",
        "At a high level, I did the following:\n",
        "\n",
        "1. Set fine-tuning parameters: **Learning rate** set to 1e-4 (I did not  include the `lm_head` and `embed_tokens` layers in these experiments). I used a simple Linear Scheduler [6], which warms up the learning rate until `warmup_ratio` steps, then linearly decreases it. **Epochs**: I set this to 1, i.e. each chunk of the text is seem once by the trainer. **Batch size**: I set the batch size as big as possible based on VRAM availability, i.e. to 64.\n",
        "\n",
        "2. Setup logic for storing training loss and learning rate schedule into local log file. \\\\\n",
        "\n",
        "3. Execute fine-tuning.\n",
        "\n",
        "4. Save the following:\n",
        "  - to Hugging Face Hub => best model and last checkpoint model. I use my personal HF namespace `mpenna77`\n",
        "  - to Github => PyTorch memory profiling files [12] and training loss/learning rate schedule"
      ],
      "metadata": {
        "id": "UdDMKV15VZao"
      }
    },
    {
      "cell_type": "code",
      "source": [
        "from pathlib import Path\n",
        "from huggingface_hub import HfApi\n",
        "\n",
        "# set hyperparameters\n",
        "LR = 1e-4\n",
        "LOW_LR = 5e-5\n",
        "BATCH_SIZE = 32 # 16\n",
        "NUM_SAVES = 5   # how many checkpoints to save\n",
        "\n",
        "# setting run name\n",
        "if INCLUDE_HEAD_AND_EMB:\n",
        "  run_name = f\"{model_name.split('/')[-1]}-lr{LR}-b{BATCH_SIZE}-r{LORA_R}-a{LORA_ALPHA}-combo-lora-cthulhu\"\n",
        "else:\n",
        "  run_name = f\"{model_name.split('/')[-1]}-lr{LR}-b{BATCH_SIZE}-r{LORA_R}-a{LORA_ALPHA}-combo-no_head-lora-cthulhu\"\n",
        "print(run_name)\n",
        "\n",
        "# creating output directories\n",
        "%cd /content/cthulhu_fine_tuning\n",
        "\n",
        "out_dir = f\"fine-tuning/models/{run_name}\"           # temp local dir where checkpoints are saved\n",
        "profiling_dir = f\"fine-tuning/profiling/{run_name}\"  # local dir where logs and mem profile are stored. will be pushed to github\n",
        "log_file=f\"{profiling_dir}/logs.txt\"                 # log file storing for each log step various metrics\n",
        "Path(out_dir).mkdir(exist_ok=True, parents=True)\n",
        "Path(profiling_dir).mkdir(exist_ok=True, parents=True)\n",
        "\n",
        "\n",
        "# Create HF repo for this model\n",
        "api = HfApi(token=userdata.get('HF_TOKEN_WRITE'))\n",
        "api.create_repo(repo_id=f\"mpenna77/{run_name}\", private=True, exist_ok=True)\n"
      ],
      "metadata": {
        "id": "bEC-WGgZUWBo"
      },
      "execution_count": null,
      "outputs": []
    },
    {
      "cell_type": "code",
      "source": [
        "# setting learning rates separately for different layers.\n",
        "\n",
        "from torch.optim.adamw import AdamW\n",
        "\n",
        "params_low_lr = [\n",
        "    \"base_model.model.model.embed_tokens.lora_embedding_A.default\",\n",
        "    \"base_model.model.model.embed_tokens.lora_embedding_B.default\",\n",
        "    \"base_model.model.lm_head.lora_A.default.weight\",\n",
        "    \"base_model.model.lm_head.lora_B.default.weight\"\n",
        "    ]\n",
        "\n",
        "model_params = model.named_parameters()\n",
        "grouped_parameters = [\n",
        "    {'params': [p for n, p in model_params if not any(nd in n for nd in params_low_lr)], 'lr': LR},\n",
        "    {'params': [p for n, p in model_params if any(nd in n for nd in params_low_lr)], 'lr': LOW_LR}\n",
        "]\n",
        "\n",
        "adam_optimizer = AdamW(grouped_parameters)"
      ],
      "metadata": {
        "collapsed": true,
        "id": "4Wt_6P67ezc_"
      },
      "execution_count": null,
      "outputs": []
    },
    {
      "cell_type": "code",
      "source": [
        "# Insruct Trainer to log learning rates in local log file at every log event.\n",
        "\n",
        "from transformers import TrainerCallback\n",
        "\n",
        "class SaveLrCallback(TrainerCallback):\n",
        "    \"\"\"\n",
        "    A TrainerCallback that logs learning rates to a local file at every log event.\n",
        "    \"\"\"\n",
        "    def __init__(self, output_file):\n",
        "        \"\"\"\n",
        "        Initializes the SaveLrCallback.\n",
        "\n",
        "        Args:\n",
        "            output_file (str): The path to the file where logs will be written.\n",
        "        \"\"\"\n",
        "        super().__init__()\n",
        "        self.output_file = output_file\n",
        "\n",
        "    def on_log(self, args, state, control, logs=None, **kwargs):\n",
        "      \"\"\"\n",
        "      Writes the logs to the output file at every log event.\n",
        "\n",
        "      Args:\n",
        "          args (TrainingArguments): The training arguments.\n",
        "          state (TrainerState): The current state of the trainer.\n",
        "          control (TrainerControl): The control object for the training loop.\n",
        "          logs (Dict[str, float], optional): The logs to write. Defaults to None.\n",
        "          **kwargs: Additional keyword arguments.\n",
        "\n",
        "      Returns:\n",
        "          TrainerControl: The control object for the training loop.\n",
        "      \"\"\"\n",
        "      lr_scheduler = kwargs.pop(\"lr_scheduler\")\n",
        "      optimizer = kwargs.pop(\"optimizer\")\n",
        "      if isinstance(lr_scheduler, torch.optim.lr_scheduler.ReduceLROnPlateau):\n",
        "        for k, group in enumerate(optimizer.param_groups()):\n",
        "          logs[f\"lr_param_group_{k}\"] = group[\"lr\"]\n",
        "      else:\n",
        "        for k, v in enumerate(lr_scheduler.get_last_lr()):\n",
        "          logs[f\"lr_param_group_{k}\"] = v\n",
        "      print(logs)\n",
        "      with open(self.output_file, \"a\") as f:\n",
        "          f.write(str(logs) + \"\\n\")\n",
        "      return super().on_log(args, state, control, **kwargs)"
      ],
      "metadata": {
        "id": "AsioaIR0TFVP"
      },
      "execution_count": null,
      "outputs": []
    },
    {
      "cell_type": "code",
      "source": [
        "# define every how many steps we want to save checkpoints\n",
        "\n",
        "num_examples = len(dataset_combo)\n",
        "num_steps = num_examples // BATCH_SIZE\n",
        "save_steps = num_steps // NUM_SAVES\n",
        "\n",
        "print(f\"Number of examples: {num_examples}\")\n",
        "print(f\"Number of steps: {num_steps}\")\n",
        "print(f\"save_steps: {save_steps}\")"
      ],
      "metadata": {
        "colab": {
          "base_uri": "https://localhost:8080/"
        },
        "id": "9bTCgxG9xFCc",
        "outputId": "7d439aca-51e2-4472-83be-7d754ca49a99",
        "collapsed": true
      },
      "execution_count": null,
      "outputs": [
        {
          "output_type": "stream",
          "name": "stdout",
          "text": [
            "Number of examples: 16557\n",
            "Number of steps: 517\n",
            "save_steps: 103\n"
          ]
        }
      ]
    },
    {
      "cell_type": "code",
      "source": [
        "# Execute fine tuning\n",
        "\n",
        "import time\n",
        "from typing import Dict, Optional\n",
        "import torch\n",
        "from pathlib import Path\n",
        "from transformers import TrainingArguments, Trainer, TrainerCallback, DataCollatorWithPadding\n",
        "from transformers.integrations import flash_attention\n",
        "\n",
        "\n",
        "training_args = TrainingArguments(\n",
        "    output_dir=out_dir,\n",
        "    gradient_accumulation_steps = 1,         # after how many steps (batches) to sum up the gradient and then update params\n",
        "    lr_scheduler_type = \"linear\",            # learning rate is warmed up linearly until warmup_ratio steps, then linearly decreases\n",
        "    warmup_ratio = 0.05,                     # firs x% of training steps will be used to slowly ramp-up learning rate (default is 0.1). Makes training more stable.\n",
        "    weight_decay=0.3,                        # keep between 1.0 and 0.3\n",
        "    per_device_train_batch_size=BATCH_SIZE,  # depends on VRAM availability\n",
        "    num_train_epochs=1,                      # 3 should be sufficient. More could overfit and decrease creativity.\n",
        "    save_strategy=\"steps\",                   # set to \"epoch\" if storing checkpoints every epoch, or \"step\" if at every batch\n",
        "    save_steps=save_steps,\n",
        "    logging_steps=5,\n",
        "    report_to=\"none\",                        # Disable 'Weights and Biases' reporting\n",
        "    label_names=[\"labels\"],                  # see: https://github.com/unslothai/unsloth/issues/1788\n",
        "    push_to_hub = True,\n",
        "    hub_model_id = run_name,\n",
        "    hub_strategy = \"all_checkpoints\",        # saves to the hub all checkpoints, including the last step\n",
        "    hub_token = HF_TOKEN,\n",
        "    #max_steps = 10,\n",
        ")\n",
        "\n",
        "\n",
        "time_start_training = time.perf_counter()\n",
        "\n",
        "trainer = Trainer(\n",
        "    model=model,\n",
        "    args=training_args,\n",
        "    train_dataset=dataset_combo,\n",
        "    tokenizer=tokenizer,\n",
        "    data_collator=data_collator,\n",
        "    optimizers=(adam_optimizer, None) # the scheduler (set here to None) will be set automatically using the TrainingArguments (see: https://github.com/huggingface/transformers/blob/0725cd6953803b8aacfc85288cbfb83dea30c469/src/transformers/trainer.py#L1741)\n",
        ")\n",
        "\n",
        "# add callback to log learning rates\n",
        "trainer.add_callback(SaveLrCallback(log_file))\n",
        "\n",
        "# start capturing VRAM snapshots\n",
        "torch.cuda.memory._record_memory_history(max_entries=100000)\n",
        "\n",
        "results = trainer.train()\n",
        "\n",
        "# end capturing VRAM snapshots\n",
        "time_end_training = time.perf_counter()\n",
        "\n",
        "# push tokenizer files to the hub\n",
        "tokenizer.push_to_hub(run_name, private=True, token=HF_TOKEN)\n"
      ],
      "metadata": {
        "id": "beCySXDzVdxH"
      },
      "execution_count": null,
      "outputs": []
    },
    {
      "cell_type": "code",
      "source": [
        "# Saving VRAM snapshots to Github\n",
        "\n",
        "%cd /content/cthulhu_fine_tuning\n",
        "\n",
        "profiling_file = f\"{profiling_dir}/profile.pkl\"\n",
        "profiling_viz_file = f\"{profiling_dir}/trace.html\"\n",
        "\n",
        "# saving memory profile file to local file system\n",
        "Path(profiling_file).parent.mkdir(exist_ok=True, parents=True)\n",
        "torch.cuda.memory._dump_snapshot(profiling_file)\n",
        "torch.cuda.memory._record_memory_history(enabled=None)\n",
        "\n",
        "# generating memory profile visualuzation files in local file system\n",
        "! wget https://raw.githubusercontent.com/pytorch/pytorch/master/torch/cuda/_memory_viz.py\n",
        "! python _memory_viz.py trace_plot {profiling_file} -o {profiling_viz_file}\n",
        "\n",
        "\n",
        "# pushing profiling files to github\n",
        "! git config --global user.email \"marco.pennacchiotti@gmail.com\"\n",
        "! git add {profiling_dir}\n",
        "! git commit -m \"added new profiling files\"\n",
        "! git push origin main"
      ],
      "metadata": {
        "id": "JmAF802mvNXB"
      },
      "execution_count": null,
      "outputs": []
    },
    {
      "cell_type": "markdown",
      "source": [
        "## Reporting and post-analysis"
      ],
      "metadata": {
        "id": "VOPI70l7xcLx"
      }
    },
    {
      "cell_type": "code",
      "source": [
        "# Print VRAM memory usage\n",
        "\n",
        "import torch\n",
        "\n",
        "mem_training = torch.cuda.max_memory_allocated(device)\n",
        "mem_used_training = round((mem_training - mem_lora_model_load) / 1024/1024/1024, 4)\n",
        "\n",
        "\n",
        "print(f\"training time: {(time_end_training - time_start_training):.1f} s\")\n",
        "print(f\"Memory used for original model (GB): {mem_used_model}\")\n",
        "print(f\"Memory used for LoRA model (GB): {mem_used_lora_model}\")\n",
        "print(f\"Memory used for training (GB): {mem_used_training}\")"
      ],
      "metadata": {
        "colab": {
          "base_uri": "https://localhost:8080/"
        },
        "id": "S3UdJ48svNS9",
        "outputId": "916357ba-f6f2-45e9-cb63-f9dcac98e774",
        "collapsed": true
      },
      "execution_count": null,
      "outputs": [
        {
          "output_type": "stream",
          "name": "stdout",
          "text": [
            "training time: 11330.5 s\n",
            "Memory used for original model (GB): 7.2716\n",
            "Memory used for LoRA model (GB): 0.6265\n",
            "Memory used for training (GB): 17.1418\n"
          ]
        }
      ]
    },
    {
      "cell_type": "code",
      "source": [
        "# Plot training loss and learning rate schedule\n",
        "\n",
        "import json\n",
        "import pandas as pd\n",
        "import matplotlib.pyplot as plt\n",
        "\n",
        "log_data = []\n",
        "with open(log_file, \"r\") as f:\n",
        "  for ln in f:\n",
        "    log_data.append(json.loads(ln.replace(\"'\",\"\\\"\")))\n",
        "\n",
        "df = pd.DataFrame.from_dict(log_data)\n",
        "fig, axs = plt.subplots(2, 1, figsize=(12,8))\n",
        "df[\"loss\"].plot(ax=axs[0])\n",
        "df[\"learning_rate\"].plot(ax=axs[1])\n",
        "df[\"lr_param_group_0\"].plot(ax=axs[1])\n",
        "df[\"lr_param_group_1\"].plot(ax=axs[1])\n",
        "axs[0].legend()\n",
        "axs[1].legend()\n",
        "axs[0].set_title(\"Training loss\")\n",
        "axs[1].set_title(\"Learning rates\")\n",
        "plt.show()"
      ],
      "metadata": {
        "colab": {
          "base_uri": "https://localhost:8080/",
          "height": 694
        },
        "id": "6GuP3o_RR3He",
        "outputId": "406d47ca-20aa-4ef1-efe3-a1d57f89bdc3",
        "collapsed": true
      },
      "execution_count": null,
      "outputs": [
        {
          "output_type": "display_data",
          "data": {
            "text/plain": [
              "<Figure size 1200x800 with 2 Axes>"
            ],
            "image/png": "[encoded data removed]"
          },
          "metadata": {}
        }
      ]
    },
    {
      "cell_type": "markdown",
      "source": [
        "# Utils to check GPU status"
      ],
      "metadata": {
        "id": "bo5SLwuZVcYM"
      }
    },
    {
      "cell_type": "code",
      "source": [
        "## free the memory again\n",
        "import torch\n",
        "import gc\n",
        "\n",
        "torch.cuda.empty_cache()\n",
        "gc.collect()"
      ],
      "metadata": {
        "id": "c-KtBwGEf_Al",
        "collapsed": true
      },
      "execution_count": null,
      "outputs": []
    },
    {
      "cell_type": "code",
      "source": [
        "! fuser -v /dev/nvidia*"
      ],
      "metadata": {
        "id": "NB8rdMuCgKpj",
        "collapsed": true
      },
      "execution_count": null,
      "outputs": []
    },
    {
      "cell_type": "code",
      "source": [
        "! sudo kill -9 293"
      ],
      "metadata": {
        "id": "CPs5WW_6L_yB"
      },
      "execution_count": null,
      "outputs": []
    },
    {
      "cell_type": "code",
      "source": [
        "print(trainer.get_optimizer_cls_and_kwargs(training_args))\n",
        "print(trainer.get)"
      ],
      "metadata": {
        "id": "1oldGt1jFJ7I"
      },
      "execution_count": null,
      "outputs": []
    }
  ]
}