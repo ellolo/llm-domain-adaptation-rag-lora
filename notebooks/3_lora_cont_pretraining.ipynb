{
  "nbformat": 4,
  "nbformat_minor": 0,
  "metadata": {
    "colab": {
      "provenance": [],
      "collapsed_sections": [
        "1MbBTBbK0GVw",
        "MKO4Bus9xtFx",
        "GXuqwV0htgoT",
        "rbJr1M0LuR0a",
        "UdDMKV15VZao",
        "VOPI70l7xcLx",
        "bo5SLwuZVcYM",
        "pA4MXwIdxiaq"
      ],
      "gpuType": "A100",
      "authorship_tag": "ABX9TyObEZ02rZvqwDZLDVX63Zkq",
      "include_colab_link": true
    },
    "kernelspec": {
      "name": "python3",
      "display_name": "Python 3"
    },
    "language_info": {
      "name": "python"
    },
    "accelerator": "GPU"
  },
  "cells": [
    {
      "cell_type": "markdown",
      "metadata": {
        "id": "view-in-github",
        "colab_type": "text"
      },
      "source": [
        "<a href=\"https://colab.research.google.com/github/ellolo/cthulhu_fine_tuning/blob/main/notebooks/3_lora_cont_pretraining.ipynb\" target=\"_parent\"><img src=\"https://colab.research.google.com/assets/colab-badge.svg\" alt=\"Open In Colab\"/></a>"
      ]
    },
    {
      "cell_type": "markdown",
      "source": [
        "# LoRA Continued Pretraining\n",
        "\n",
        "This notebook performs [Continued Pretraining](https://arxiv.org/pdf/2405.09673) of `Llama-3.1-8B-Instruct` and `Llama-3.2-1B-Instruct` on a domain-specific raw text dataset using [Low-Rank Adaptation (LoRA)](https://arxiv.org/abs/2106.09685). The goal is to obtain a fine-tuned model that answers user questions on that domain.\n",
        "\n",
        "In this noebook, I use the Chtulhu game as the target domain, and the Chtulhu Rulebook as textual fine-tuning dataset. The idea is to use the fine-tuned model while playing the Game of Chtulhu, to answer players' questions regarding the rules of the game.\n",
        "\n",
        "## Continued Pretraining vs. Instruction (QA) fine-tuning\n",
        "\n",
        "The typical approach to adapt a base model to answer questions related to a target domain is to perform Question Answering fine-tuning, or, more boradly Instruction Fine Tuning (IFT, see [this paper](https://arxiv.org/pdf/2405.09673) for a survey): the base model is fed a dataset of Question Answering pairs related to the domain, thus learning to answer similar questions. In addition, in order to spare memory, this fine-tuning is performed using Lora. I have implemented this approach in `2_lora_qa_finetuning.ipynb`.\n",
        "\n",
        "A different approach, presented in this Notebook, is to feed the base model with raw text documents that enclose the domain knowledge. The advantage is here that the domain knolwedge is explicitly and naturally described in the text, instead of being artifically summarized in a dataset of QA pairs, as done in IFT. This should lead the model to better learn the domain. However, there is a risk that after this additional training phase (which does not contain QA pairs),the model has 'forgot' how to answer questions.\n",
        "\n",
        "\n",
        "## Stack\n",
        "- [Hugging Face Transformers](https://huggingface.co/docs/transformers/en/index) to load and quantize the base models, and to perform fine-tuning\n",
        "- [BitsAndBytes](https://huggingface.co/docs/bitsandbytes/main/en/index) for quantization.\n",
        "- [Hugging Face Parameter-Efficient Fine-Tuning (PEFT)](https://huggingface.co/docs/peft/en/index) to configure the Lora model.\n",
        "- [Hugging Face Hub](https://huggingface.co/docs/huggingface_hub/en/index) to store the Lora models checkpoints.\n",
        "\n",
        "I recommend to use a machine with at least a **A100** Nvidia GPU. Although Lora is designed to save VRAM, a decent GPU is stil needed.\n",
        "\n",
        "## Details\n",
        "At a high-level, I do the following (more details are provided in the rest of the notebook):\n",
        "\n",
        "1. Install dependencies and clone this github repo. I use the repo to read the Chtulhu Rulebook, and also to store performance data of the fine-tuning process.\n",
        "2. Load the base model (either `Llama-3.1-8B-Instruct` or `Llama-3.2-1B-Instruct`) and quantize it to 4-bits to save VRAM. When quantized, these models are small enough to perform Lora fine-tuning on a A100 GPU.\n",
        "3. Setup and configure the Lora model. This means that we create low-dimensional Lora adapters on top of specific layers of the base model, and fine-tune the weights of these adapters, leaving the weights of the original base model untouched, thus saving time and VRAM. I add Lora adapeters to all linear layers of the Llama models (both attention and FFN layers) including the head and the initial embedding. I set Lora rank to 64, Lora α to 32, and always activate rLora.\n",
        "4. Prepare the dataset for training. The dataset consists of **chunks** of 256 tokens extracted from the Chtulhu Rulebook. More details are provided in the following sections.\n",
        "5. Fine-tune the Lora model. I track the training loss as the main metric. I also track and store VRAM snapshots to monitor the memory usage."
      ],
      "metadata": {
        "id": "59h8yaqcSGfQ"
      }
    },
    {
      "cell_type": "markdown",
      "source": [
        "# 1. Install dependencies and clone github repo\n",
        "\n",
        "\n",
        "The github repo contains the dataset for fine-tuning."
      ],
      "metadata": {
        "id": "1MbBTBbK0GVw"
      }
    },
    {
      "cell_type": "code",
      "execution_count": null,
      "metadata": {
        "id": "86dv3HdX6xax"
      },
      "outputs": [],
      "source": [
        "%%capture\n",
        "! pip install -U 'transformers[torch]' peft datasets bitsandbytes\n"
      ]
    },
    {
      "cell_type": "code",
      "source": [
        "# get HF token from secrets and login in HF hub, so that we can download models from HF Hub\n",
        "\n",
        "from huggingface_hub import login\n",
        "from google.colab import userdata\n",
        "\n",
        "HF_TOKEN=userdata.get('HF_TOKEN_WRITE')\n",
        "if HF_TOKEN:\n",
        "  login(HF_TOKEN, new_session=True)\n",
        "else:\n",
        "  login()"
      ],
      "metadata": {
        "id": "V8q9TEI668wH"
      },
      "execution_count": null,
      "outputs": []
    },
    {
      "cell_type": "code",
      "source": [
        "# Clone github repository.\n",
        "\n",
        "# Past here the SSH key stored on my personal laptopat: ~/dev/llm_cthulhu_fine_tuning/keys\n",
        "# This is not safe, but unfortunaly using Colab secrets did not work.\n",
        "\n",
        "! mkdir -p /root/.ssh\n",
        "with open(\"/root/.ssh/id_rsa\", mode=\"w\") as fp:\n",
        "    fp.write(\"\"\"<YOUR SSH KEY TO THE REPO>\"\"\")\n",
        "\n",
        "# <COPY FROM LOCAL DISK AT: ~/dev/llm_cthulhu_fine_tuning/keys>\n",
        "! ssh-keyscan -t rsa github.com >> ~/.ssh/known_hosts\n",
        "! chmod go-rwx /root/.ssh/id_rsa\n",
        "! git clone git@github.com:ellolo/cthulhu_fine_tuning.git"
      ],
      "metadata": {
        "id": "xYOAJ3nj69Y7"
      },
      "execution_count": null,
      "outputs": []
    },
    {
      "cell_type": "markdown",
      "source": [
        "# 2. Load quantized pretrained model\n",
        "\n",
        "The process is the same as in `2_lora_qa_finetuning.ipynb`, as follows.\n",
        "\n",
        "I experimented with the following base models: `Llama-3.1-8B-Instruct` and  `Llama-3.2-1B-Instruct`. These models are small enough to be finetuned with LoRA on a A100 GPU.\n",
        "It could be interesting to experiment also with base models that are not tuned to chat (e.g. `Llama-3.2-1B`) as proposed in [2], with bigger models, and with models other open-sourced models outside Llama family.\n",
        "\n",
        "The base model is loaded into the GPU with 4-bit BitsAndBytes quantization.  Using quantization saves GPU memory, which allowed me to run LoRA fine-tuning with a 8B model on a single A100 GPU.\n",
        "\n",
        "- **4-bit vs 8-bit quantization** \\\\\n",
        "Two types of quantization are typically used, 8-bit and 4-bit. The latter has slighly lower precision on existing benchmarks, but allows to significantly shrink memory. Using 4-bit instead of 8-bit allowed me to use a bigger model (Llama 8B instead of 3B). This is good, as some empirical evidences [7] show that a 4-bit 8B is more accurate than a a 8-bit 3B model.\n",
        "\n",
        "- **BitsAndBytes** \\\\\n",
        "There are many available approaches to quantize a model, as described in [4, 5]. For PEFT fine-tuning and for working on CUDA/Nvidia, Hugging Face recommends to use BitsAndBytes [9], since it is the most tested for PEFT.\n",
        "\n",
        "- **Flesh attention** \\\\\n",
        "I load the model with flash-attention when the architecture of the GPU allows. Flesh attention should increase memory performance and stability [13, 14, 15].\n",
        "\n",
        "GPU memory used for base models during my experiments, measured with nvidia-smi:\n",
        "\n",
        "| Model | Quantization | VRAM (GB) |\n",
        "|-------|--------------|----------|\n",
        "| Llama-3.2-1B | none | 5.99 |\n",
        "| Llama-3.2-1B | 4-bit | 1.60 |\n",
        "| Llama-3.1-8B | 4-bit | 7.27 |\n",
        "\n",
        "## References\n",
        "\n",
        "Fine-tuning in Hugging Face using PEFT:\n",
        "\n",
        "- [1] https://huggingface.co/docs/transformers/main/en/peft\n",
        "\n",
        "Best base models for LoRA:\n",
        "- [2] https://docs.unsloth.ai/get-started/fine-tuning-guide/what-model-should-i-use\n",
        "\n",
        "Llama 3.2 architecture:\n",
        "- [3] https://www.analyticsvidhya.com/blog/2024/09/llama-3-2-models/\n",
        "\n",
        "Quantization quick intro:\n",
        "- [4] https://huggingface.co/docs/transformers/main/en/quantization/concept_guide\n",
        "- [5] https://huggingface.co/docs/transformers/en/quantization/overview\n",
        "- [6] https://huggingface.co/blog/merve/quantization\n",
        "\n",
        "4-bit vs 8-bit quantization:\n",
        "- [7] https://www.reddit.com/r/LocalLLaMA/comments/13mxq66/13b_4bit_or_7b_8bits/\n",
        "- [8] https://medium.com/@shikharstruck/shrinking-elephants-a-funny-guide-to-4-bit-and-8-bit-quantization-for-llms-with-lora-ddf9f1a62070\n",
        "\n",
        "BitsAndBytes:\n",
        "- [9] https://huggingface.co/docs/transformers/main/en/quantization/selecting\n",
        "- [10] https://huggingface.co/blog/4bit-transformers-bitsandbytes\n",
        "- [11] https://huggingface.co/docs/transformers/en/quantization/bitsandbytes\n",
        "- [12] https://huggingface.co/docs/transformers/en/main_classes/quantization#transformers.BitsAndBytesConfig\n",
        "\n",
        "Flesh attention:\n",
        "- [13] https://huggingface.co/docs/trl/en/sft_trainer#using-flash-attention-and-flash-attention-2\n",
        "- [14] https://mlabonne.github.io/blog/posts/2024-04-19_Fine_tune_Llama_3_with_ORPO.html\n",
        "- [15] https://medium.com/data-science-in-your-pocket/what-is-flash-attention-f5dc22522a77"
      ],
      "metadata": {
        "id": "MKO4Bus9xtFx"
      }
    },
    {
      "cell_type": "code",
      "source": [
        "# Set base model\n",
        "\n",
        "model_name = \"meta-llama/Llama-3.1-8B-Instruct\" # \"meta-llama/Llama-3.2-1B-Instruct\" # \"meta-llama/Llama-3.2-1B\""
      ],
      "metadata": {
        "id": "oJl6jqW20M-o"
      },
      "execution_count": null,
      "outputs": []
    },
    {
      "cell_type": "code",
      "source": [
        "# Configure BitsAndBytes\n",
        "\n",
        "import torch\n",
        "from transformers import BitsAndBytesConfig\n",
        "\n",
        "bnb_config = BitsAndBytesConfig(\n",
        "    load_in_4bit=True,                     # weights stored in 4 bits (saves memory)\n",
        "    bnb_4bit_quant_type=\"nf4\",             # format used for storing in 4 bits\n",
        "    bnb_4bit_use_double_quant=True,        # double quantize (saves memory)\n",
        "    bnb_4bit_compute_dtype=torch.bfloat16, # perform operations in 16bit instead of 32bit (speed up fine-tuning)\n",
        ")"
      ],
      "metadata": {
        "id": "S0BmIOBdzoKd"
      },
      "execution_count": null,
      "outputs": []
    },
    {
      "cell_type": "code",
      "source": [
        "# Load quantized model on GPU\n",
        "\n",
        "from transformers import AutoModelForCausalLM\n",
        "from peft import prepare_model_for_kbit_training\n",
        "\n",
        "SKIP_FLASH_ATTENTION = True # force skipping flash attention\n",
        "\n",
        "device = torch.device(\"cuda\") if torch.cuda.is_available() else torch.device(\"cpu\")\n",
        "\n",
        "mem_start = torch.cuda.memory_allocated(device)\n",
        "\n",
        "# check if we can use flash-attention\n",
        "try:\n",
        "  if torch.cuda.get_device_capability()[0] >= 8 and not SKIP_FLASH_ATTENTION:\n",
        "      print(\"Using flash-attention\")\n",
        "      attn_implementation = \"flash_attention_2\"\n",
        "      !pip install -U flash_attn\n",
        "  else:\n",
        "      print(\"Using native attention\")\n",
        "      attn_implementation = \"eager\"\n",
        "except:\n",
        "  print(\"Using native attention (no GPU found)\")\n",
        "  attn_implementation = \"eager\"\n",
        "attn_implementation = \"eager\"\n",
        "\n",
        "model = AutoModelForCausalLM.from_pretrained(\n",
        "    model_name,\n",
        "    quantization_config=bnb_config,\n",
        "    attn_implementation=attn_implementation,\n",
        ").to(device)\n",
        "model = prepare_model_for_kbit_training(model)\n",
        "\n",
        "mem_model_load = torch.cuda.memory_allocated(device)\n",
        "mem_used_model = round((mem_model_load - mem_start) / 1024/1024/1024, 4)\n",
        "print(f\"Using device:{device}\")\n",
        "print(f\"Memory used for original model (GB): {mem_used_model}\")\n",
        "print(model)"
      ],
      "metadata": {
        "id": "ABvhVB77zrXC"
      },
      "execution_count": null,
      "outputs": []
    },
    {
      "cell_type": "markdown",
      "source": [
        "# 3. Setup LoRA model\n",
        "\n",
        "The process is very similar to `2_lora_qa_finetuning.ipynb`. The only difference is that we try to apply the Lora adapters also to the `lm_head` and the `embed_tokens` layers.\n",
        "\n",
        "I experimented with different Llora hyperparameter setups, largely following existing recommendations from the literature [1, 2, 3, 6]:\n",
        "- **r**: 64 \\\\\n",
        "Literature suggests to keep the Llora rank _r_ between 8 and 128. I set this to 64, based on the results of the experiments obtained in `2_lora_qa_finetuning.ipynb`.\n",
        "- **α**: 32 \\\\\n",
        "Literature suggests to set the scaling factor _α_ to _α=r_ or _α=2*r_. A higher scaling factor amplifies the effect of the fine-tuning, i.e. the Llora. A lower value pushed the model to rely mor eon the original parameters.\n",
        "- **rLlora**: active \\\\\n",
        "rLlora takes the square root of _r_ when merging the Llora adapter, instead of _r_, which brings more stability to the fine-tuning process.\n",
        "\n",
        "- **layers with Llora**: all linear layers, all linear layers + lm_head \\\\\n",
        "Empirical experiment [6] hypothesize that best performance for continued pretraining are achieved when applying Llora not only to all linear layers, but also to the `lm_head` and `embed_tokens` layers. I experimented both with and without these latter layers, to verify this hypothesis.\n",
        "\n",
        "- **batch size**: 16, 64\n",
        "A small batch size allows to save VRAM, but I was able to push to 64 examples on the A100, so to get more stability and faster training time.\n",
        "\n",
        "\n",
        "## References\n",
        "\n",
        "Llora intro:\n",
        "- [1] https://arxiv.org/abs/2106.09685\n",
        "- [2] https://medium.com/@kednaik/llm-fine-tuning-with-lora-8e06f2227183\n",
        "\n",
        "Hyperparameters setting for Llora:\n",
        "- [3] https://docs.unsloth.ai/get-started/fine-tuning-llms-guide/lora-hyperparameters-guide\n",
        "- [4] https://www.reddit.com/r/LocalLLaMA/comments/15sgg4m/what_modules_should_i_target_when_training_using/\n",
        "- [5] https://www.anyscale.com/blog/fine-tuning-llms-lora-or-full-parameter-an-in-depth-analysis-with-llama-2\n",
        "\n",
        "Hyperparameters setting for Continued Pretraing with Llora\n",
        "- [6] https://unsloth.ai/blog/contpretraining"
      ],
      "metadata": {
        "id": "GXuqwV0htgoT"
      }
    },
    {
      "cell_type": "code",
      "source": [
        "# Set Llora hyperparameters\n",
        "\n",
        "from peft import LoraConfig, get_peft_model\n",
        "\n",
        "def get_linear_layers(model, exclude_lm_head = True):\n",
        "    \"\"\"\n",
        "    Returns the short sematic name of all layers that are linear,\n",
        "    (excluding the final head layer if needed).\n",
        "\n",
        "    Args:\n",
        "        model: HF model to get linear layers from.\n",
        "        exclude_lm_head (boolean, optional): True if lm_head layer must be included\n",
        "    Returns:\n",
        "        list: List of linear layers of the model.\n",
        "    \"\"\"\n",
        "    linear_layers = set()\n",
        "    for name, module in model.named_modules():\n",
        "      module_type = str(type(module))\n",
        "      if \"Linear\" in module_type:\n",
        "        linear_layers.add(name.split(\".\")[-1])\n",
        "    if exclude_lm_head and 'lm_head' in linear_layers:\n",
        "      linear_layers.remove(\"lm_head\")\n",
        "    return list(linear_layers)\n",
        "\n",
        "INCLUDE_HEAD_AND_EMB = False # decide if to include lm_nead and embed_tokens layers\n",
        "\n",
        "if INCLUDE_HEAD_AND_EMB:\n",
        "  layers_for_lora = get_linear_layers(model, exclude_lm_head=False)\n",
        "  layers_for_lora.append(\"embed_tokens\")\n",
        "else:\n",
        "  layers_for_lora = get_linear_layers(model, exclude_lm_head=True)\n",
        "\n",
        "print(f\"Linear for LoRA: {layers_for_lora}\")\n",
        "\n",
        "LORA_R = 64 # 16, 32, 64, 128, 256\n",
        "LORA_ALPHA = 32\n",
        "\n",
        "lora_config = LoraConfig(\n",
        "    r=LORA_R,                                 # rank (dim) of the adapters A and B. Higher value means more parameters to train (more expressivity but also more mem). Increasing does not bring substantial increase in performance.\n",
        "    lora_alpha=LORA_ALPHA,                    # magnitude of adapter in changing the orginal params (W' = W + alpha/r * (A*B)). Usually alpha=2*r. Typicall set between 4 and 64. High a leans more to the adapter, low a leans more on original weights. Should be bigger for smaller models.\n",
        "    target_modules= layers_for_lora,          # to which layers to apply lora adapters. This is the param that influences performance the most. According to QLoRA paper should use adapters to all linear layers to match full finetuning accuracy\n",
        "    lora_dropout=0.0,                         # setting to 0 allows faster training, but risks some overfitting\n",
        "    bias=\"none\",\n",
        "    use_rslora=True,                          # stabilizes adapters. changes the Lora equation to: W' = W + alpha/SQRT(r) * (A*B), so that for large r, the Lora adapters still have a significant impact on W'\n",
        "    task_type=\"CAUSAL_LM\",\n",
        ")\n"
      ],
      "metadata": {
        "id": "GUC-Yw4TyyTM",
        "colab": {
          "base_uri": "https://localhost:8080/"
        },
        "outputId": "b66cb696-90eb-4643-daf0-04b9253ab4a0"
      },
      "execution_count": null,
      "outputs": [
        {
          "output_type": "stream",
          "name": "stdout",
          "text": [
            "Linear for LoRA: ['o_proj', 'v_proj', 'up_proj', 'q_proj', 'k_proj', 'down_proj', 'gate_proj']\n"
          ]
        }
      ]
    },
    {
      "cell_type": "code",
      "source": [
        "# Add LoRA adapters to the selected layers of the base model's architecture.\n",
        "\n",
        "from peft import PeftModelForCausalLM\n",
        "\n",
        "model: PeftModelForCausalLM = get_peft_model(model, lora_config)\n",
        "\n",
        "mem_lora_model_load = torch.cuda.memory_allocated(device)\n",
        "mem_used_lora_model = round((mem_lora_model_load - mem_model_load) / 1024/1024/1024, 4)\n",
        "print(f\"Memory used for original model (GB): {mem_used_model}\")\n",
        "print(f\"Memory used for LoRA model (GB): {mem_used_lora_model}\")\n",
        "print(model)\n",
        "print(\"*\"*20)\n",
        "model.print_trainable_parameters()"
      ],
      "metadata": {
        "id": "uGp_5pnrz56f"
      },
      "execution_count": null,
      "outputs": []
    },
    {
      "cell_type": "markdown",
      "source": [
        "# 4. Prepare textual dataset\n",
        "\n",
        "We perform continuous pretraining on the text of the [Chtulhu Rulebook](https://archive.org/details/call-of-cthulhu-core-rulebook-by-chaosium-inc.-z-lib.org). The text (located at `data/output`) is converted from the original PDF (located at `data/pdf`) as described in `1_synt_dataset_generation.ipynb`. The text consists of 466,075 tokens, for a total of 1,690,260 characters.\n",
        "\n",
        "The text is then split into **chunks** of 256 tokens. Each chunk constitue a training example. Chunks have a high overlap, in order to ensure that all the semantic content of the Rulebook is considered during training. More details on how chunking is performed are reported below.\n",
        "\n",
        "\n",
        "Specifically, I do the following:\n",
        "\n",
        "1. Load the text of the Rulebook. Since we are doing continued pretraining, we do not need to split into training and test set.\n",
        "\n",
        "2. Tokenize the text [4, 5, 6] and peform **chunking** (see details below). Each chunk constitutes a training example for the Lora model.\n",
        "\n",
        "3. Initialize the Data Collator that will generate batches during fine-tuning. This is done exactly as in `2_lora_qa_finetuning.ipynb`. \\\\\n",
        " I use the `DataCollatorForLanguageModeling` which performs the following for each batch (see [7] for a complete guide):\n",
        " - **Padding**: finds the example in the batch with the longest 'input_ids'  token sequence _n_. Pads the 'input_ids' token sequence of the other examples in the batch up to _n_, using the tokenizer's pad token. This results in all token sequences in the batch to have the same length.\n",
        " - **Labels**: create a new 'label sequence' for each example in the batch. This is the field used by the Trainer to compute the loss. The label sequence is created as follows. First, it copies the token ids from the 'input_ids' sequence into the label sequence. Then, it replaces pad token ids with -100 so that pad tokens are not used for loss computation. \\\\\n",
        "Note that the label for token $u_i$ should be token $u_i+1$ since we want to predict the _next_ token $u_i+1$ from the context $u_0...u_i$. Therefore we we would expect the Data Collator to not simply 'copy' the input_ids into the label sequence, but to shift the label of one position. In Hugging Face this shifting is actualy done by the trainer itself [8], therefore just copying is ok.\n",
        "\n",
        "### How chunking is done\n",
        "\n",
        "I construct the dataset for continuous pretraining with a procedure that is very similar to that used by big LLM players to pretrain fundational model (e.g. GPT or Llama).\n",
        "\n",
        "Specifically, I take the raw text of the Rulebook, tokenize it, and split it into chunks [15, 16, 17, 18]. Each chunk has a fixed number of tokens (`CONTEXT_LENGTH`, which I set empirically to 256). Each chunk starts a fixed number of tokens after the start of the previous chunk (`STRIDE` which I treat as a hyperparameter). In practice:\n",
        "  - first chunk => start at token index `1`, ends at token `CONTEXT_LENGTH`\n",
        "  - second chunk => start at token index `STRIDE`, ends at token `CONTEXT_LENGTH + STIRED`\n",
        "  - third chunk => start at token index `2*STRIDE`, ends at token `2*STRIDE + CONTEXT_LENGTH`\n",
        "  - k chunk  => start at token index `K*STRIDE`, ends at token `K*STRIDE + CONTEXT_LENGTH`\n",
        "\n",
        "This means that when we use a `STRIDE` of 1, we extract a total of `N-CONTEXT_LENGTH`, chunks, where N is the total number of tokens in the dataset.\n",
        "Example:\n",
        "```\n",
        "TOKENS = [\"the\", \"book\", \"is\", \"on\", \"the\", \"table\", \"and\", \"is\", \"red\"]\n",
        "CONTEXT_LENGHT = 5\n",
        "STRIDE = 1\n",
        "Chunks are:\n",
        "    [\"the\", \"book\", \"is\", \"on\", \"the\",]\n",
        "    [\"book\", \"is\", \"on\", \"the\", \"table\"]\n",
        "    [\"is\", \"on\", \"the\", \"table\", \"and\"]\n",
        "    [\"on\", \"the\", \"table\", \"and\", \"is\"]\n",
        "    [\"the\", \"table\", \"and\", \"is\", \"red\"]\n",
        "```\n",
        "This allows every token in the dataset to be predicted with full context.\n",
        "For example, if we had instead used `STRIDE=5` we would have had:\n",
        "```\n",
        "    [\"the\", \"book\", \"is\", \"on\", \"the\"]\n",
        "    [\"table\", \"and\", \"is\", \"red\"]\n",
        "```\n",
        "In this case, the token \"table\" would never had a chance to be predicted,since it never has a context. Therefore we want `STRIDE` to be always smaller than `CONTEXT_LENGTH`.\n",
        "\n",
        "\n",
        "### Note about Pad token in Llama.\n",
        "\n",
        "`DataCollatorForLanguageModeling` requires the Tokenizer to have a pad token, or it fails. Since Llama does not have a pad token, I set it manually to one of the unused 'reserved tokens' (see file tokenizer_config.json in Hugging Face). Specificially I used the aptly named `<|finetune_right_pad_id|>` [10].\n",
        "I could have alternaitely used the `eos_token` or a brand new token, but these have the following disadvantages:\n",
        "-  eos_token: this would result in the collator to 'mask' the eos_token (i.e.\n",
        "set all the occurrences of eos_token, also those that actually mean 'end of sentence') to -100. This may result in the model never to emit eos_token, end therefore endlessly generate [11, 12].\n",
        "- new token: this would change the token vocabulary size. We would therefore need to resize the embedding layers, which is inconvenient and may not work with quantized models [13, 14].\n",
        "\n",
        "\n",
        "## References\n",
        "\n",
        "Tokenization in Hugging Face:\n",
        "- [4] https://huggingface.co/learn/llm-course/chapter2/4?fw=pt\n",
        "- [5] https://huggingface.co/learn/llm-course/chapter3/2?fw=pt\n",
        "- [6] https://huggingface.co/learn/llm-course/chapter2/5?fw=pt#attention-masks\n",
        "\n",
        "Data Collators:\n",
        "- [7] https://towardsdatascience.com/data-collators-in-huggingface-a0c76db798d2/\n",
        "- [8] https://huggingface.co/learn/llm-course/en/chapter7/6#initializing-a-new-model\n",
        "- [9] https://discuss.huggingface.co/t/how-labelled-data-is-processed-transformers-trainer/80644/6\n",
        "\n",
        "Pad token in Llama:\n",
        "- [10] http://github.com/unslothai/unsloth/issues/416\n",
        "- [11] https://github.com/huggingface/transformers/issues/25773\n",
        "- [12] https://github.com/huggingface/transformers/issues/22794\n",
        "- [13] https://medium.com/@coldstart_coder/adding-custom-tokens-to-huggingface-models-1981f114efc1\n",
        "- [14] https://www.youtube.com/watch?v=MB0ZJ5Y-07s           \n",
        "\n",
        "Prepare dataset for continued pretraining:\n",
        "- [15] https://huggingface.co/learn/llm-course/chapter7/6?fw=pt#preparing-the-dataset\n",
        "- [16] https://medium.com/@williamzebrowski7/llm-foundations-constructing-and-training-decoder-only-transformers-bfcc429b43a2\n",
        "- [17] https://github.com/karpathy/nanoGPT/blob/master/train.py#L116\n",
        "- [18] https://stackoverflow.com/questions/76342339/how-can-i-handle-overflowing-tokens-in-huggingface-transformer-model\n"
      ],
      "metadata": {
        "id": "rbJr1M0LuR0a"
      }
    },
    {
      "cell_type": "code",
      "source": [
        "# load textual dataset\n",
        "\n",
        "from datasets import load_dataset\n",
        "\n",
        "%cd /content/cthulhu_fine_tuning\n",
        "\n",
        "dataset_file = \"data/output/cthulhu.txt\"\n",
        "\n",
        "dataset = load_dataset(\n",
        "    \"text\",\n",
        "    data_files = dataset_file,\n",
        "    sample_by=\"document\",\n",
        "    split = \"train\")\n",
        "\n",
        "print(f\"dataset size: {len(dataset)}\")\n",
        "print(f\"Number of chars: {len(dataset[0]['text'])}\")"
      ],
      "metadata": {
        "id": "-OTuplaO_pLh",
        "collapsed": true
      },
      "execution_count": null,
      "outputs": []
    },
    {
      "cell_type": "code",
      "source": [
        "# Tokenize and chunk text\n",
        "\n",
        "from transformers import AutoTokenizer\n",
        "from collections import defaultdict\n",
        "import numpy as np\n",
        "\n",
        "\n",
        "def tokenize(example):\n",
        "  \"\"\"\n",
        "  Tokenizes the text in the 'text' field of a dataset example.\n",
        "\n",
        "  Args:\n",
        "      example (dict): A dictionary containing the text data in the 'text' key.\n",
        "\n",
        "  Returns:\n",
        "      dict: A dictionary containing the tokenized input IDs under the 'input_ids' key.\n",
        "  \"\"\"\n",
        "  return tokenizer(example[\"text\"])\n",
        "\n",
        "\n",
        "def create_chunks(example, context_length, stride=1):\n",
        "  \"\"\"\n",
        "  Splits tokenized input IDs into overlapping chunks.\n",
        "\n",
        "  Args:\n",
        "      example (dict): A dictionary containing the tokenized input IDs under the 'input_ids' key.\n",
        "      context_length (int): The desired length of each chunk, in number of tokens.\n",
        "      stride (int, optional): The number of tokens to shift for the start of the next chunk. Defaults to 1.\n",
        "\n",
        "  Returns:\n",
        "      dict: A dictionary containing a list of tokenized chunks under the 'input_ids' key\n",
        "            and a list of chunk lengths under the 'length' key.\n",
        "  \"\"\"\n",
        "  chunks = []\n",
        "  lengths = []\n",
        "  for i in range(0, len(example[\"input_ids\"][0]) - context_length + 1, stride):\n",
        "    chunk = example[\"input_ids\"][0][i : i + context_length]\n",
        "    chunks.append(chunk)\n",
        "    lengths.append(len(chunk))\n",
        "  return {\"input_ids\": chunks, \"length\": lengths}\n",
        "\n",
        "\n",
        "CONTEXT_LENGTH = 256  # nuber of tokens in each chunk\n",
        "STRIDE = 32 # start the next chunk STRIDE tokens later\n",
        "\n",
        "# load tokenizer\n",
        "tokenizer = AutoTokenizer.from_pretrained(model_name, use_fast=True)\n",
        "\n",
        "# tokenize whole document\n",
        "dataset_tokenized = dataset.map(tokenize, batched=False, remove_columns=dataset.column_names)\n",
        "\n",
        "# split document into chunks\n",
        "dataset_chunked = dataset_tokenized.map(\n",
        "    create_chunks,\n",
        "    batched=True,\n",
        "    remove_columns=dataset_tokenized.column_names,\n",
        "    fn_kwargs={\"context_length\": CONTEXT_LENGTH, \"stride\": STRIDE})\n",
        "\n",
        "# show dataset statistics\n",
        "print(f\"Number of tokens: {len(dataset_tokenized['input_ids'][0])}\")\n",
        "print(f\"Number of chunks: {len(dataset_chunked)}\")\n",
        "lengths = dataset_chunked[\"length\"]\n",
        "d = defaultdict(int)\n",
        "for l in lengths:\n",
        "  d[l] += 1\n",
        "print(\"Distribution of chunk lengths:\")\n",
        "for k, v in d.items():\n",
        "  print(f\"{k}: {v}\")"
      ],
      "metadata": {
        "id": "LCAaODvd6_FU"
      },
      "execution_count": null,
      "outputs": []
    },
    {
      "cell_type": "code",
      "source": [
        "# let's double check we chuncked correctly (only works for STRIDE=1).\n",
        "# we take the first three chunks, and the first CONTENT_LENGHT+2 tokens of the\n",
        "# original tokenized document and make sure there is a match.\n",
        "# We do the same with the last three chunks.\n",
        "for i in range(3):\n",
        "  print(dataset_chunked[i][\"input_ids\"])\n",
        "  print(dataset_tokenized[0][\"input_ids\"][i:CONTEXT_LENGTH+i])\n",
        "  print(\"-\"*20)\n",
        "for i in range(3):\n",
        "  print(dataset_chunked[-i-1][\"input_ids\"])\n",
        "  length = len(dataset_tokenized[0][\"input_ids\"])\n",
        "  print(dataset_tokenized[0][\"input_ids\"][length-i-CONTEXT_LENGTH:length-i])\n",
        "  print(\"-\"*20)"
      ],
      "metadata": {
        "id": "AlTq2S-h9ACK"
      },
      "execution_count": null,
      "outputs": []
    },
    {
      "cell_type": "code",
      "source": [
        "# set pad token for Llama tokenizer\n",
        "\n",
        "tokenizer.add_special_tokens({\"pad_token\": \"<|finetune_right_pad_id|>\"})\n",
        "model.config.pad_token_id = tokenizer.pad_token_id\n",
        "tokenizer.padding_side = 'right'\n",
        "\n",
        "print(\"*\"*40)\n",
        "print(f\"Tokenizer vocab size before adding pad token: {len(tokenizer)}\")\n",
        "print(f\"Tokenizer vocab size after adding pad token: {len(tokenizer)}\")\n",
        "print('Tokenizer pad token:', tokenizer.pad_token)\n",
        "print('Tokenizer pad token id:', tokenizer.pad_token_id)\n",
        "print('Model pad token id:', model.config.pad_token_id)\n",
        "print(\"*\"*40)\n",
        "\n",
        "\n",
        "# inizialize data collator\n",
        "from transformers import DataCollatorForLanguageModeling\n",
        "data_collator = DataCollatorForLanguageModeling(tokenizer=tokenizer, mlm=False)"
      ],
      "metadata": {
        "colab": {
          "base_uri": "https://localhost:8080/"
        },
        "id": "4cyYT3RkubWx",
        "outputId": "88fa48c2-6a7a-40b3-d200-1a1405f9ee43"
      },
      "execution_count": null,
      "outputs": [
        {
          "output_type": "stream",
          "name": "stdout",
          "text": [
            "****************************************\n",
            "Tokenizer vocab size before adding pad token: 128256\n",
            "Tokenizer vocab size after adding pad token: 128256\n",
            "Tokenizer pad token: <|finetune_right_pad_id|>\n",
            "Tokenizer pad token id: 128004\n",
            "Model pad token id: 128004\n",
            "****************************************\n"
          ]
        }
      ]
    },
    {
      "cell_type": "code",
      "source": [
        "# Let's check that the data collator produces output as we expect\n",
        "\n",
        "import torch\n",
        "\n",
        "dataloader = torch.utils.data.DataLoader(\n",
        "    dataset_chunked,\n",
        "    collate_fn=data_collator,\n",
        "    batch_size=2\n",
        "    )\n",
        "\n",
        "def occurrence_token_id(tensor, token_id):\n",
        "  mask = token_id == tensor\n",
        "  return mask.sum().item()\n",
        "\n",
        "i = 0\n",
        "for batch in dataloader:\n",
        "      print()\n",
        "      print(f\"Sequences length: {len(batch['input_ids'][0])}\")\n",
        "      print(f\"Padding tokens in sequence 1: {occurrence_token_id(batch['input_ids'][0], tokenizer.pad_token_id)}\")\n",
        "      print(f\"Padding tokens in sequence 2: {occurrence_token_id(batch['input_ids'][1], tokenizer.pad_token_id)}\")\n",
        "      print(f\"Sequence 1 decoded:\\n {tokenizer.decode(batch['input_ids'][0])}\")\n",
        "      print(f\"\\nSequence 2 decoded:\\n {tokenizer.decode(batch['input_ids'][1])}\")\n",
        "      print(f\"Actual input to Trainer:\")\n",
        "      print(batch)\n",
        "      print(\"*\"*50)\n",
        "      if i == 2:\n",
        "        break\n",
        "      i += 1"
      ],
      "metadata": {
        "id": "_RdRytl3vKYN"
      },
      "execution_count": null,
      "outputs": []
    },
    {
      "cell_type": "markdown",
      "source": [
        "# 5. Execute continued pretraining\n",
        "\n",
        "The process for training the model is very similar to `2_lora_qa_finetuning.ipynb`. The only relevant difference is that the learning rate for the adapters in the `lm_head` and `embed_tokens` layers is lower than for other layers (details below).\n",
        "\n",
        "In details, I did the following:\n",
        "\n",
        "1. Set fine-tuning parameters:\n",
        "  -  **Learning rate** [1, 2, 3]: For all hidden layers, I used 1e-4. When including also `lm_head` and `embed_tokens`, their learning rate is set to 5e-5 as suggested in [4]. To enable different learning rates, I initalized a dedicated AdamW optimizer instance, as suggested in [5]. \\\\\n",
        "    I used a simple Linear Scheduler [6], which warms up the learning rate until `warmup_ratio` steps, then linearly decreases it.\n",
        "  - **Epochs** [7]: I set this to 1, i.e. each chunk of the text is seem once by the trainer.\n",
        "  - **Batch size** [8]: I set the batch size as big as possible based on VRAM availability, i.e. to 64.\n",
        "\n",
        "2. Randomly shuffle the dataset\n",
        "\n",
        "3. Setup logic for storing training loss and learning rate schedule into local log file. \\\\\n",
        "Instructs Trainer to store the learning rate and all the other logs, at each log steps. Log steps are defined via the `log_steps` argument of the Trainer.This is implemented via the `SaveLrCallback` callback, that gets executed by the Trainer after every log step. The log file is stored under the \"profiling\" path.\n",
        "\n",
        "4. Execute fine-tuning.\n",
        "\n",
        "5. Save the following:\n",
        "  - to Hugging Face Hub => best model and last checkpoint model. I use my personal HF namespace `mpenna77`\n",
        "  - to Github => PyTorch memory profiling files [12] and training loss/learning rate schedule\n",
        "\n",
        "\n",
        "## References\n",
        "\n",
        "Learning rate for Llora:\n",
        "- [1] https://docs.unsloth.ai/get-started/fine-tuning-llms-guide/lora-hyperparameters-guide#learning-rate\n",
        "- [2] https://www.determined.ai/blog/lora-parameters\n",
        "- [3] https://www.anyscale.com/blog/fine-tuning-llms-lora-or-full-parameter-an-in-depth-analysis-with-llama-2?_gl=1*1xhtjl9*_gcl_au*ODk3ODg5MjE3LjE3NDc5MDcwODY.#sensitivity-of-lora-to-learning-rate\n",
        "- [4] https://unsloth.ai/blog/contpretraining\n",
        "- [5] https://www.kaggle.com/code/rhtsingh/guide-to-huggingface-schedulers-differential-lrs\n",
        "- [6] https://huggingface.co/docs/transformers/main_classes/optimizer_schedules#transformers.get_linear_schedule_with_warmup\n",
        "\n",
        "Epochs for Llora:\n",
        "- [7] https://docs.unsloth.ai/get-started/fine-tuning-llms-guide/lora-hyperparameters-guide#epochs\n",
        "\n",
        "Batch size for Llora:\n",
        "- [8] https://docs.unsloth.ai/get-started/fine-tuning-llms-guide/lora-hyperparameters-guide#effective-batch-size\n",
        "\n",
        "Use PEFT and Trainer in Hugging Face:\n",
        "- [9] https://huggingface.co/docs/peft/quicktour\n",
        "- [10] https://huggingface.co/docs/transformers/v4.52.2/en/trainer\n",
        "- [11] https://huggingface.co/learn/llm-course/chapter3/2?fw=pt\n",
        "\n",
        "Memory profiling in PyTorch:\n",
        "- [12] https://zdevito.github.io/2022/12/09/memory-traces.html\n",
        "\n",
        "Storing\n",
        "- https://discuss.huggingface.co/t/how-to-write-custom-trainercallback-functions-with-custom-arguments/151063"
      ],
      "metadata": {
        "id": "UdDMKV15VZao"
      }
    },
    {
      "cell_type": "code",
      "source": [
        "from pathlib import Path\n",
        "from huggingface_hub import HfApi\n",
        "\n",
        "# set hyperparameters\n",
        "LR = 1e-4\n",
        "LOW_LR = 5e-5\n",
        "BATCH_SIZE = 32 # 16\n",
        "NUM_SAVES = 5   # how many checkpoints to save\n",
        "\n",
        "# setting run name\n",
        "if INCLUDE_HEAD_AND_EMB:\n",
        "  run_name = f\"{model_name.split('/')[-1]}-lr{LR}-b{BATCH_SIZE}-r{LORA_R}-a{LORA_ALPHA}-continuous-lora-cthulhu\"\n",
        "else:\n",
        "  run_name = f\"{model_name.split('/')[-1]}-lr{LR}-b{BATCH_SIZE}-r{LORA_R}-a{LORA_ALPHA}-continuous-no_head-lora-cthulhu\"\n",
        "print(run_name)\n",
        "\n",
        "# creating output directories\n",
        "%cd /content/cthulhu_fine_tuning\n",
        "\n",
        "out_dir = f\"fine-tuning/models/{run_name}\"           # temp local dir where checkpoints are saved\n",
        "profiling_dir = f\"fine-tuning/profiling/{run_name}\"  # local dir where logs and mem profile are stored. will be pushed to github\n",
        "log_file=f\"{profiling_dir}/logs.txt\"                 # log file storing for each log step various metrics\n",
        "Path(out_dir).mkdir(exist_ok=True, parents=True)\n",
        "Path(profiling_dir).mkdir(exist_ok=True, parents=True)\n",
        "\n",
        "\n",
        "# Create HF repo for this model\n",
        "api = HfApi(token=userdata.get('HF_TOKEN_WRITE'))\n",
        "api.create_repo(repo_id=f\"mpenna77/{run_name}\", private=True, exist_ok=True)\n"
      ],
      "metadata": {
        "id": "bEC-WGgZUWBo"
      },
      "execution_count": null,
      "outputs": []
    },
    {
      "cell_type": "code",
      "source": [
        "# setting learning rates separately for different layers.\n",
        "\n",
        "from torch.optim.adamw import AdamW\n",
        "\n",
        "params_low_lr = [\n",
        "    \"base_model.model.model.embed_tokens.lora_embedding_A.default\",\n",
        "    \"base_model.model.model.embed_tokens.lora_embedding_B.default\",\n",
        "    \"base_model.model.lm_head.lora_A.default.weight\",\n",
        "    \"base_model.model.lm_head.lora_B.default.weight\"\n",
        "    ]\n",
        "\n",
        "model_params = model.named_parameters()\n",
        "grouped_parameters = [\n",
        "    {'params': [p for n, p in model_params if not any(nd in n for nd in params_low_lr)], 'lr': LR},\n",
        "    {'params': [p for n, p in model_params if any(nd in n for nd in params_low_lr)], 'lr': LOW_LR}\n",
        "]\n",
        "\n",
        "adam_optimizer = AdamW(grouped_parameters) # this optimizer will be used during training (see later)"
      ],
      "metadata": {
        "collapsed": true,
        "id": "4Wt_6P67ezc_"
      },
      "execution_count": null,
      "outputs": []
    },
    {
      "cell_type": "code",
      "source": [
        "# shuffle dataset\n",
        "generator = np.random.default_rng(seed=42)\n",
        "dataset_chunked = dataset_chunked.shuffle(generator=generator)"
      ],
      "metadata": {
        "id": "PNfhjomreyqd"
      },
      "execution_count": null,
      "outputs": []
    },
    {
      "cell_type": "code",
      "source": [
        "# Insruct Trainer to log learning rates in local log file at every log event.\n",
        "\n",
        "from transformers import TrainerCallback\n",
        "\n",
        "class SaveLrCallback(TrainerCallback):\n",
        "    \"\"\"\n",
        "    A TrainerCallback that logs learning rates to a local file at every log event.\n",
        "    \"\"\"\n",
        "    def __init__(self, output_file):\n",
        "        \"\"\"\n",
        "        Initializes the SaveLrCallback.\n",
        "\n",
        "        Args:\n",
        "            output_file (str): The path to the file where logs will be written.\n",
        "        \"\"\"\n",
        "        super().__init__()\n",
        "        self.output_file = output_file\n",
        "\n",
        "    def on_log(self, args, state, control, logs=None, **kwargs):\n",
        "      \"\"\"\n",
        "      Writes the logs to the output file at every log event.\n",
        "\n",
        "      Args:\n",
        "          args (TrainingArguments): The training arguments.\n",
        "          state (TrainerState): The current state of the trainer.\n",
        "          control (TrainerControl): The control object for the training loop.\n",
        "          logs (Dict[str, float], optional): The logs to write. Defaults to None.\n",
        "          **kwargs: Additional keyword arguments.\n",
        "\n",
        "      Returns:\n",
        "          TrainerControl: The control object for the training loop.\n",
        "      \"\"\"\n",
        "      lr_scheduler = kwargs.pop(\"lr_scheduler\")\n",
        "      optimizer = kwargs.pop(\"optimizer\")\n",
        "      if isinstance(lr_scheduler, torch.optim.lr_scheduler.ReduceLROnPlateau):\n",
        "        for k, group in enumerate(optimizer.param_groups()):\n",
        "          logs[f\"lr_param_group_{k}\"] = group[\"lr\"]\n",
        "      else:\n",
        "        for k, v in enumerate(lr_scheduler.get_last_lr()):\n",
        "          logs[f\"lr_param_group_{k}\"] = v\n",
        "      print(logs)\n",
        "      with open(self.output_file, \"a\") as f:\n",
        "          f.write(str(logs) + \"\\n\")\n",
        "      return super().on_log(args, state, control, **kwargs)"
      ],
      "metadata": {
        "id": "AsioaIR0TFVP"
      },
      "execution_count": null,
      "outputs": []
    },
    {
      "cell_type": "code",
      "source": [
        "# define every how many steps we want to save checkpoints\n",
        "\n",
        "num_examples = len(dataset_chunked)\n",
        "num_steps = num_examples // BATCH_SIZE\n",
        "save_steps = num_steps // NUM_SAVES\n",
        "\n",
        "print(f\"Number of examples: {num_examples}\")\n",
        "print(f\"Number of steps: {num_steps}\")\n",
        "print(f\"save_steps: {save_steps}\")"
      ],
      "metadata": {
        "colab": {
          "base_uri": "https://localhost:8080/"
        },
        "id": "9bTCgxG9xFCc",
        "outputId": "38f96706-3a81-47a3-c9f1-78c0ce505383"
      },
      "execution_count": null,
      "outputs": [
        {
          "output_type": "stream",
          "name": "stdout",
          "text": [
            "Number of examples: 14557\n",
            "Number of steps: 454\n",
            "save_steps: 90\n"
          ]
        }
      ]
    },
    {
      "cell_type": "code",
      "source": [
        "# Execute fine tuning\n",
        "\n",
        "import time\n",
        "from typing import Dict, Optional\n",
        "import torch\n",
        "from pathlib import Path\n",
        "from transformers import TrainingArguments, Trainer, TrainerCallback, DataCollatorWithPadding\n",
        "from transformers.integrations import flash_attention\n",
        "\n",
        "\n",
        "training_args = TrainingArguments(\n",
        "    output_dir=out_dir,\n",
        "    gradient_accumulation_steps = 1,         # after how many steps (batches) to sum up the gradient and then update params\n",
        "    lr_scheduler_type = \"linear\",            # learning rate is warmed up linearly until warmup_ratio steps, then linearly decreases\n",
        "    warmup_ratio = 0.05,                     # firs x% of training steps will be used to slowly ramp-up learning rate (default is 0.1). Makes training more stable.\n",
        "    weight_decay=0.3,                        # keep between 1.0 and 0.3\n",
        "    per_device_train_batch_size=BATCH_SIZE,  # depends on VRAM availability\n",
        "    num_train_epochs=1,                      # 1 should be sufficient. More could overfit and decrease creativity.\n",
        "    save_strategy=\"steps\",                   # set to \"epoch\" if storing checkpoints every epoch, or \"step\" if at every batch\n",
        "    save_steps=save_steps,\n",
        "    logging_steps=5,\n",
        "    report_to=\"none\",                        # Disable 'Weights and Biases' reporting\n",
        "    label_names=[\"labels\"],                  # see: https://github.com/unslothai/unsloth/issues/1788\n",
        "    push_to_hub = True,\n",
        "    hub_model_id = run_name,\n",
        "    hub_strategy = \"all_checkpoints\",        # saves to the hub all checkpoints, including the last step\n",
        "    hub_token = HF_TOKEN,\n",
        "    #max_steps = 10,\n",
        ")\n",
        "\n",
        "\n",
        "time_start_training = time.perf_counter()\n",
        "\n",
        "trainer = Trainer(\n",
        "    model=model,\n",
        "    args=training_args,\n",
        "    train_dataset=dataset_chunked,\n",
        "    tokenizer=tokenizer,\n",
        "    data_collator=data_collator,\n",
        "    optimizers=(adam_optimizer, None) # sets the learning rates defined in adapt_optmizer. Note that the scheduler (set here to None) will be set automatically using the TrainingArguments (see: https://github.com/huggingface/transformers/blob/0725cd6953803b8aacfc85288cbfb83dea30c469/src/transformers/trainer.py#L1741)\n",
        ")\n",
        "\n",
        "# add callback to log learning rates\n",
        "trainer.add_callback(SaveLrCallback(log_file))\n",
        "\n",
        "# start capturing VRAM snapshots\n",
        "torch.cuda.memory._record_memory_history(max_entries=100000)\n",
        "\n",
        "results = trainer.train()\n",
        "\n",
        "# end capturing VRAM snapshots\n",
        "time_end_training = time.perf_counter()\n",
        "\n",
        "# push tokenizer files to the hub\n",
        "tokenizer.push_to_hub(run_name, private=True, token=HF_TOKEN)\n"
      ],
      "metadata": {
        "id": "beCySXDzVdxH"
      },
      "execution_count": null,
      "outputs": []
    },
    {
      "cell_type": "code",
      "source": [
        "# Saving VRAM snapshots to Github\n",
        "\n",
        "%cd /content/cthulhu_fine_tuning\n",
        "\n",
        "profiling_file = f\"{profiling_dir}/profile.pkl\"\n",
        "profiling_viz_file = f\"{profiling_dir}/trace.html\"\n",
        "\n",
        "# saving memory profile file to local file system\n",
        "Path(profiling_file).parent.mkdir(exist_ok=True, parents=True)\n",
        "torch.cuda.memory._dump_snapshot(profiling_file)\n",
        "torch.cuda.memory._record_memory_history(enabled=None)\n",
        "\n",
        "# generating memory profile visualuzation files in local file system\n",
        "! wget https://raw.githubusercontent.com/pytorch/pytorch/master/torch/cuda/_memory_viz.py\n",
        "! python _memory_viz.py trace_plot {profiling_file} -o {profiling_viz_file}\n",
        "\n",
        "\n",
        "# pushing profiling files to github\n",
        "! git config --global user.email \"marco.pennacchiotti@gmail.com\"\n",
        "! git add {profiling_dir}\n",
        "! git commit -m \"added new profiling files\"\n",
        "! git push origin main"
      ],
      "metadata": {
        "id": "JmAF802mvNXB"
      },
      "execution_count": null,
      "outputs": []
    },
    {
      "cell_type": "markdown",
      "source": [
        "## Reporting and post-analysis"
      ],
      "metadata": {
        "id": "VOPI70l7xcLx"
      }
    },
    {
      "cell_type": "code",
      "source": [
        "# Print VRAM memory usage\n",
        "\n",
        "import torch\n",
        "\n",
        "mem_training = torch.cuda.max_memory_allocated(device)\n",
        "mem_used_training = round((mem_training - mem_lora_model_load) / 1024/1024/1024, 4)\n",
        "\n",
        "\n",
        "print(f\"training time: {(time_end_training - time_start_training):.1f} s\")\n",
        "print(f\"Memory used for original model (GB): {mem_used_model}\")\n",
        "print(f\"Memory used for LoRA model (GB): {mem_used_lora_model}\")\n",
        "print(f\"Memory used for training (GB): {mem_used_training}\")"
      ],
      "metadata": {
        "colab": {
          "base_uri": "https://localhost:8080/"
        },
        "id": "S3UdJ48svNS9",
        "outputId": "594914b5-1e3b-419c-a38c-5d20c39ec749"
      },
      "execution_count": null,
      "outputs": [
        {
          "output_type": "stream",
          "name": "stdout",
          "text": [
            "training time: 9993.2 s\n",
            "Memory used for original model (GB): 7.2716\n",
            "Memory used for LoRA model (GB): 0.6265\n",
            "Memory used for training (GB): 17.1418\n"
          ]
        }
      ]
    },
    {
      "cell_type": "code",
      "source": [
        "# Plot training loss and learning rate schedule\n",
        "\n",
        "import json\n",
        "import pandas as pd\n",
        "import matplotlib.pyplot as plt\n",
        "\n",
        "log_data = []\n",
        "with open(log_file, \"r\") as f:\n",
        "  for ln in f:\n",
        "    log_data.append(json.loads(ln.replace(\"'\",\"\\\"\")))\n",
        "\n",
        "df = pd.DataFrame.from_dict(log_data)\n",
        "fig, axs = plt.subplots(2, 1, figsize=(12,8))\n",
        "df[\"loss\"].plot(ax=axs[0])\n",
        "df[\"learning_rate\"].plot(ax=axs[1])\n",
        "df[\"lr_param_group_0\"].plot(ax=axs[1])\n",
        "df[\"lr_param_group_1\"].plot(ax=axs[1])\n",
        "axs[0].legend()\n",
        "axs[1].legend()\n",
        "axs[0].set_title(\"Training loss\")\n",
        "axs[1].set_title(\"Learning rates\")\n",
        "plt.show()"
      ],
      "metadata": {
        "colab": {
          "base_uri": "https://localhost:8080/",
          "height": 699
        },
        "id": "6GuP3o_RR3He",
        "outputId": "f9f9a3ac-13b0-4c48-c706-04b7396c33ef"
      },
      "execution_count": null,
      "outputs": [
        {
          "output_type": "display_data",
          "data": {
            "text/plain": [
              "<Figure size 1200x800 with 2 Axes>"
            ],
            "image/png": "[encoded data removed]"
          },
          "metadata": {}
        }
      ]
    },
    {
      "cell_type": "markdown",
      "source": [
        "# Utils to check GPU status"
      ],
      "metadata": {
        "id": "bo5SLwuZVcYM"
      }
    },
    {
      "cell_type": "code",
      "source": [
        "## free the memory again\n",
        "import torch\n",
        "import gc\n",
        "\n",
        "torch.cuda.empty_cache()\n",
        "gc.collect()"
      ],
      "metadata": {
        "id": "c-KtBwGEf_Al"
      },
      "execution_count": null,
      "outputs": []
    },
    {
      "cell_type": "code",
      "source": [
        "! fuser -v /dev/nvidia*"
      ],
      "metadata": {
        "id": "NB8rdMuCgKpj"
      },
      "execution_count": null,
      "outputs": []
    },
    {
      "cell_type": "code",
      "source": [
        "! sudo kill -9 293"
      ],
      "metadata": {
        "id": "CPs5WW_6L_yB"
      },
      "execution_count": null,
      "outputs": []
    },
    {
      "cell_type": "code",
      "source": [
        "print(trainer.get_optimizer_cls_and_kwargs(training_args))\n",
        "print(trainer.get)"
      ],
      "metadata": {
        "id": "1oldGt1jFJ7I"
      },
      "execution_count": null,
      "outputs": []
    },
    {
      "cell_type": "markdown",
      "source": [
        "# Old code (deprecated)"
      ],
      "metadata": {
        "id": "pA4MXwIdxiaq"
      }
    },
    {
      "cell_type": "code",
      "source": [
        "# let's add the learning rate top the training logs\n",
        "class TrainerWithLoggerLr(Trainer):\n",
        "    def log(self, logs: Dict[str, float], start_time: Optional[float] = None) -> None:\n",
        "        # see:\n",
        "        #  - https://discuss.huggingface.co/t/how-to-show-the-learning-rate-during-training/13914/3\n",
        "        #  - method _get_learning_rate() of trainer_pt_utils.py\n",
        "        if isinstance(self.lr_scheduler, torch.optim.lr_scheduler.ReduceLROnPlateau):\n",
        "          for k, group in enumerate(self.optimizer.param_groups()):\n",
        "            logs[f\"lr_param_group_{k}\"] = group[\"lr\"]\n",
        "        else:\n",
        "          for k, v in enumerate(self.lr_scheduler.get_last_lr()):\n",
        "            logs[f\"lr_param_group_{k}\"] = v\n",
        "        print(logs)\n",
        "        super().log(logs)"
      ],
      "metadata": {
        "id": "up9OTOtASB0Z"
      },
      "execution_count": null,
      "outputs": []
    },
    {
      "cell_type": "code",
      "source": [
        "# SAVING TO HUGGING FACE HUB: BEST MODEL, LAST MODEL\n",
        "\n",
        "#trainer.push_to_hub(\"mpenna77/{run_name}\")\n",
        "\n",
        "\n",
        "from huggingface_hub import HfApi\n",
        "\n",
        "def upload_to_hub(api, hub_model_name, path):\n",
        "  if api.repo_exists()\n",
        "  api.create_repo(repo_id=f\"mpenna77/{run_name}\", private=True, exist_ok=True)\n",
        "  api.upload_folder(\n",
        "      folder_path=path,\n",
        "      repo_id=f\"mpenna77/{hub_model_name}\",\n",
        "      repo_type=\"model\",\n",
        "  )\n",
        "\n",
        "api = HfApi(token=userdata.get('HF_TOKEN_WRITE'))\n",
        "\n",
        "hub_model_name_last = f\"{run_name}-checkpoint-{trainer.state.max_steps}\"\n",
        "model_dir_last = f\"{out_dir}/checkpoint-{trainer.state.max_steps}\"\n",
        "upload_to_hub(api, hub_model_name_last, model_dir_last)\n",
        "\n",
        "hub_model_name_best = f\"{run_name}-best-model\"\n",
        "model_dir_best = f\"{out_dir}/best-model\"\n",
        "upload_to_hub(api, hub_model_name_best, model_dir_best)\n",
        "\n"
      ],
      "metadata": {
        "id": "-W2IX1tOVa6a"
      },
      "execution_count": null,
      "outputs": []
    },
    {
      "cell_type": "code",
      "source": [
        "# SAVING TO GITHUB: BEST MODEL, LAST MODEL, PROFILING FILES\n",
        "\n",
        "%cd /content/cthulhu_fine_tuning/\n",
        "\n",
        "print(f\"Best model at step: {trainer.state.best_global_step}\")\n",
        "print(f\"Best model checkpoint: {trainer.state.best_model_checkpoint}\")\n",
        "print(f\"Metric at best step (on eval set): {trainer.state.best_metric}\")\n",
        "\n",
        "best_model_dir = f\"{out_dir}/best-model\"\n",
        "best_model_state_file = f\"{out_dir}/best-model-trainer_state.json\"\n",
        "last_model_dir = f\"{out_dir}/checkpoint-{trainer.state.max_steps}\"\n",
        "\n",
        "trainer.save_model(best_model_dir)\n",
        "trainer.state.save_to_json(best_model_state_file)\n",
        "\n",
        "#! git lfs install\n",
        "#! git lfs track \"*safetensors\"\n",
        "#! git add .gitattributes\n",
        "! git config --global user.email \"marco.pennacchiotti@gmail.com\"\n",
        "! git add {best_model_dir}\n",
        "! git add {best_model_state_file}\n",
        "! git add {last_model_dir}/*json\n",
        "! git add {last_model_dir}/*md\n",
        "! git add {last_model_dir}/*safetensors\n",
        "! git add {last_model_dir}/*jinja\n",
        "! git add {profiling_dir}\n",
        "! git commit -m \"added new model\"\n",
        "! git push origin main"
      ],
      "metadata": {
        "id": "j2kAoMpdVV0Q"
      },
      "execution_count": null,
      "outputs": []
    },
    {
      "cell_type": "code",
      "source": [
        "#MAX_SEQ_LENGTH = 256\n",
        "context_length = 24\n",
        "stride = 23\n",
        "\n",
        "outputs = tokenizer(\n",
        "    #raw_datasets[\"train\"][:2][\"content\"],\n",
        "    sentence,\n",
        "    truncation=True,\n",
        "    max_length=context_length,\n",
        "    stride = stride,\n",
        "    return_overflowing_tokens=True,\n",
        "    return_length=True,\n",
        ")\n",
        "\n",
        "print(f\"Input IDs length: {len(outputs['input_ids'])}\")\n",
        "print(f\"Input chunk lengths: {(outputs['length'])}\")\n",
        "print(f\"Chunk mapping: {outputs['overflow_to_sample_mapping']}\")\n"
      ],
      "metadata": {
        "id": "X8SmQXfviig7"
      },
      "execution_count": null,
      "outputs": []
    },
    {
      "cell_type": "code",
      "source": [
        "for chunk in outputs[\"input_ids\"]:\n",
        "    print(tokenizer.decode(chunk))"
      ],
      "metadata": {
        "collapsed": true,
        "id": "vlVJpJcWil1c"
      },
      "execution_count": null,
      "outputs": []
    }
  ]
}